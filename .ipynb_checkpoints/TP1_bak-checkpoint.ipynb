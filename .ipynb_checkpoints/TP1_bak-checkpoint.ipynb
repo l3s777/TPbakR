{
 "cells": [
  {
   "cell_type": "markdown",
   "metadata": {},
   "source": [
    "# TP bak for Statistical foundations of Machine Learning\n",
    "\n",
    "Hello! I am getting into R and working on my hw for this class. Enjoy!\n",
    "\n",
    "Source: https://github.com/Yannael/info-f-422/"
   ]
  },
  {
   "cell_type": "markdown",
   "metadata": {},
   "source": [
    "# TP 1 - INTRO TO R"
   ]
  },
  {
   "cell_type": "markdown",
   "metadata": {
    "collapsed": true
   },
   "source": [
    "# Basics\n",
    "R as a calculator"
   ]
  },
  {
   "cell_type": "code",
   "execution_count": 2,
   "metadata": {
    "collapsed": false
   },
   "outputs": [
    {
     "data": {
      "text/html": [
       "0.00673794699908547"
      ],
      "text/latex": [
       "0.00673794699908547"
      ],
      "text/markdown": [
       "0.00673794699908547"
      ],
      "text/plain": [
       "[1] 0.006737947"
      ]
     },
     "metadata": {},
     "output_type": "display_data"
    }
   ],
   "source": [
    "exp(-5)"
   ]
  },
  {
   "cell_type": "code",
   "execution_count": 3,
   "metadata": {
    "collapsed": false,
    "scrolled": true
   },
   "outputs": [
    {
     "data": {
      "text/html": [
       "<ol class=list-inline>\n",
       "\t<li>1.10851232083539</li>\n",
       "\t<li>-1.93643750374855</li>\n",
       "\t<li>0.310417167485665</li>\n",
       "\t<li>-0.959993549088859</li>\n",
       "\t<li>0.112659294576644</li>\n",
       "\t<li>0.589106137841742</li>\n",
       "\t<li>0.276133677335956</li>\n",
       "\t<li>-0.393730464332093</li>\n",
       "\t<li>-1.80638633431856</li>\n",
       "\t<li>0.331417524062951</li>\n",
       "</ol>\n"
      ],
      "text/latex": [
       "\\begin{enumerate*}\n",
       "\\item 1.10851232083539\n",
       "\\item -1.93643750374855\n",
       "\\item 0.310417167485665\n",
       "\\item -0.959993549088859\n",
       "\\item 0.112659294576644\n",
       "\\item 0.589106137841742\n",
       "\\item 0.276133677335956\n",
       "\\item -0.393730464332093\n",
       "\\item -1.80638633431856\n",
       "\\item 0.331417524062951\n",
       "\\end{enumerate*}\n"
      ],
      "text/markdown": [
       "1. 1.10851232083539\n",
       "2. -1.93643750374855\n",
       "3. 0.310417167485665\n",
       "4. -0.959993549088859\n",
       "5. 0.112659294576644\n",
       "6. 0.589106137841742\n",
       "7. 0.276133677335956\n",
       "8. -0.393730464332093\n",
       "9. -1.80638633431856\n",
       "10. 0.331417524062951\n",
       "\n",
       "\n"
      ],
      "text/plain": [
       " [1]  1.1085123 -1.9364375  0.3104172 -0.9599935  0.1126593  0.5891061\n",
       " [7]  0.2761337 -0.3937305 -1.8063863  0.3314175"
      ]
     },
     "metadata": {},
     "output_type": "display_data"
    }
   ],
   "source": [
    "rnorm(10) # generate random numbers"
   ]
  },
  {
   "cell_type": "markdown",
   "metadata": {},
   "source": [
    "R variables type: integer, double, character,logical, categorical ...\n",
    "\n",
    "Some variables's assignation"
   ]
  },
  {
   "cell_type": "code",
   "execution_count": 4,
   "metadata": {
    "collapsed": false
   },
   "outputs": [
    {
     "data": {
      "text/html": [
       "5"
      ],
      "text/latex": [
       "5"
      ],
      "text/markdown": [
       "5"
      ],
      "text/plain": [
       "[1] 5"
      ]
     },
     "metadata": {},
     "output_type": "display_data"
    },
    {
     "data": {
      "text/html": [
       "15"
      ],
      "text/latex": [
       "15"
      ],
      "text/markdown": [
       "15"
      ],
      "text/plain": [
       "[1] 15"
      ]
     },
     "metadata": {},
     "output_type": "display_data"
    },
    {
     "data": {
      "text/html": [
       "'hola'"
      ],
      "text/latex": [
       "'hola'"
      ],
      "text/markdown": [
       "'hola'"
      ],
      "text/plain": [
       "[1] \"hola\""
      ]
     },
     "metadata": {},
     "output_type": "display_data"
    },
    {
     "data": {
      "text/html": [
       "0.5"
      ],
      "text/latex": [
       "0.5"
      ],
      "text/markdown": [
       "0.5"
      ],
      "text/plain": [
       "[1] 0.5"
      ]
     },
     "metadata": {},
     "output_type": "display_data"
    },
    {
     "data": {
      "text/html": [
       "TRUE"
      ],
      "text/latex": [
       "TRUE"
      ],
      "text/markdown": [
       "TRUE"
      ],
      "text/plain": [
       "[1] TRUE"
      ]
     },
     "metadata": {},
     "output_type": "display_data"
    }
   ],
   "source": [
    "x <- 5\n",
    "y <- x + 10\n",
    "a <- \"hola\"\n",
    "i <- 0.5\n",
    "o <- TRUE\n",
    "x\n",
    "y\n",
    "a\n",
    "i\n",
    "o"
   ]
  },
  {
   "cell_type": "code",
   "execution_count": 5,
   "metadata": {
    "collapsed": false
   },
   "outputs": [
    {
     "data": {
      "text/html": [
       "'double'"
      ],
      "text/latex": [
       "'double'"
      ],
      "text/markdown": [
       "'double'"
      ],
      "text/plain": [
       "[1] \"double\""
      ]
     },
     "metadata": {},
     "output_type": "display_data"
    },
    {
     "data": {
      "text/html": [
       "'double'"
      ],
      "text/latex": [
       "'double'"
      ],
      "text/markdown": [
       "'double'"
      ],
      "text/plain": [
       "[1] \"double\""
      ]
     },
     "metadata": {},
     "output_type": "display_data"
    },
    {
     "data": {
      "text/html": [
       "'character'"
      ],
      "text/latex": [
       "'character'"
      ],
      "text/markdown": [
       "'character'"
      ],
      "text/plain": [
       "[1] \"character\""
      ]
     },
     "metadata": {},
     "output_type": "display_data"
    },
    {
     "data": {
      "text/html": [
       "'double'"
      ],
      "text/latex": [
       "'double'"
      ],
      "text/markdown": [
       "'double'"
      ],
      "text/plain": [
       "[1] \"double\""
      ]
     },
     "metadata": {},
     "output_type": "display_data"
    },
    {
     "data": {
      "text/html": [
       "'logical'"
      ],
      "text/latex": [
       "'logical'"
      ],
      "text/markdown": [
       "'logical'"
      ],
      "text/plain": [
       "[1] \"logical\""
      ]
     },
     "metadata": {},
     "output_type": "display_data"
    }
   ],
   "source": [
    "# types of variables\n",
    "typeof(x)\n",
    "typeof(y)\n",
    "typeof(a)\n",
    "typeof(i)\n",
    "typeof(o)"
   ]
  },
  {
   "cell_type": "markdown",
   "metadata": {},
   "source": [
    "#### Installing and loading libraries"
   ]
  },
  {
   "cell_type": "code",
   "execution_count": 6,
   "metadata": {
    "collapsed": false,
    "scrolled": true
   },
   "outputs": [
    {
     "name": "stdout",
     "output_type": "stream",
     "text": [
      "\n",
      "The downloaded binary packages are in\n",
      "\t/var/folders/nm/cb8rfgrj01qfyh2wp482rhnm0000gn/T//RtmpiTgLnt/downloaded_packages\n"
     ]
    }
   ],
   "source": [
    "install.packages(\"ISwR\")\n",
    "library(ISwR)"
   ]
  },
  {
   "cell_type": "markdown",
   "metadata": {},
   "source": [
    "# Vectors\n",
    "\n",
    "### Definition\n",
    "Vectors can be: integer, double, character, logical\n",
    "Also, it is possible to define them as a sequence between two values seq(val_1,val_2) and as $n$ repetitions of the same element rep(val,n).\n",
    "##### vector_name <- c(values)"
   ]
  },
  {
   "cell_type": "code",
   "execution_count": 7,
   "metadata": {
    "collapsed": false
   },
   "outputs": [
    {
     "data": {
      "text/html": [
       "<ol class=list-inline>\n",
       "\t<li>5</li>\n",
       "\t<li>4</li>\n",
       "\t<li>3</li>\n",
       "</ol>\n"
      ],
      "text/latex": [
       "\\begin{enumerate*}\n",
       "\\item 5\n",
       "\\item 4\n",
       "\\item 3\n",
       "\\end{enumerate*}\n"
      ],
      "text/markdown": [
       "1. 5\n",
       "2. 4\n",
       "3. 3\n",
       "\n",
       "\n"
      ],
      "text/plain": [
       "[1] 5 4 3"
      ]
     },
     "metadata": {},
     "output_type": "display_data"
    },
    {
     "data": {
      "text/html": [
       "<ol class=list-inline>\n",
       "\t<li>1.1</li>\n",
       "\t<li>2.2</li>\n",
       "\t<li>3.3</li>\n",
       "</ol>\n"
      ],
      "text/latex": [
       "\\begin{enumerate*}\n",
       "\\item 1.1\n",
       "\\item 2.2\n",
       "\\item 3.3\n",
       "\\end{enumerate*}\n"
      ],
      "text/markdown": [
       "1. 1.1\n",
       "2. 2.2\n",
       "3. 3.3\n",
       "\n",
       "\n"
      ],
      "text/plain": [
       "[1] 1.1 2.2 3.3"
      ]
     },
     "metadata": {},
     "output_type": "display_data"
    },
    {
     "data": {
      "text/html": [
       "<ol class=list-inline>\n",
       "\t<li>TRUE</li>\n",
       "\t<li>TRUE</li>\n",
       "\t<li>FALSE</li>\n",
       "</ol>\n"
      ],
      "text/latex": [
       "\\begin{enumerate*}\n",
       "\\item TRUE\n",
       "\\item TRUE\n",
       "\\item FALSE\n",
       "\\end{enumerate*}\n"
      ],
      "text/markdown": [
       "1. TRUE\n",
       "2. TRUE\n",
       "3. FALSE\n",
       "\n",
       "\n"
      ],
      "text/plain": [
       "[1]  TRUE  TRUE FALSE"
      ]
     },
     "metadata": {},
     "output_type": "display_data"
    }
   ],
   "source": [
    "x <- c(5,4,3)\n",
    "y <- c(1.1, 2.2, 3.3)\n",
    "xy <- x > y\n",
    "\n",
    "x\n",
    "y\n",
    "xy"
   ]
  },
  {
   "cell_type": "code",
   "execution_count": 8,
   "metadata": {
    "collapsed": false
   },
   "outputs": [
    {
     "data": {
      "text/html": [
       "<ol class=list-inline>\n",
       "\t<li>'Hi'</li>\n",
       "\t<li>'Hola'</li>\n",
       "\t<li>'Ciao'</li>\n",
       "</ol>\n"
      ],
      "text/latex": [
       "\\begin{enumerate*}\n",
       "\\item 'Hi'\n",
       "\\item 'Hola'\n",
       "\\item 'Ciao'\n",
       "\\end{enumerate*}\n"
      ],
      "text/markdown": [
       "1. 'Hi'\n",
       "2. 'Hola'\n",
       "3. 'Ciao'\n",
       "\n",
       "\n"
      ],
      "text/plain": [
       "[1] \"Hi\"   \"Hola\" \"Ciao\""
      ]
     },
     "metadata": {},
     "output_type": "display_data"
    },
    {
     "data": {
      "text/html": [
       "<ol class=list-inline>\n",
       "\t<li>TRUE</li>\n",
       "\t<li>TRUE</li>\n",
       "\t<li>FALSE</li>\n",
       "</ol>\n"
      ],
      "text/latex": [
       "\\begin{enumerate*}\n",
       "\\item TRUE\n",
       "\\item TRUE\n",
       "\\item FALSE\n",
       "\\end{enumerate*}\n"
      ],
      "text/markdown": [
       "1. TRUE\n",
       "2. TRUE\n",
       "3. FALSE\n",
       "\n",
       "\n"
      ],
      "text/plain": [
       "[1]  TRUE  TRUE FALSE"
      ]
     },
     "metadata": {},
     "output_type": "display_data"
    }
   ],
   "source": [
    "w <- c(\"Hi\", \"Hola\", \"Ciao\")\n",
    "z <- c(T,T,F)\n",
    "\n",
    "w\n",
    "z"
   ]
  },
  {
   "cell_type": "code",
   "execution_count": 9,
   "metadata": {
    "collapsed": false
   },
   "outputs": [
    {
     "data": {
      "text/html": [
       "'logical'"
      ],
      "text/latex": [
       "'logical'"
      ],
      "text/markdown": [
       "'logical'"
      ],
      "text/plain": [
       "[1] \"logical\""
      ]
     },
     "metadata": {},
     "output_type": "display_data"
    },
    {
     "data": {
      "text/html": [
       "'character'"
      ],
      "text/latex": [
       "'character'"
      ],
      "text/markdown": [
       "'character'"
      ],
      "text/plain": [
       "[1] \"character\""
      ]
     },
     "metadata": {},
     "output_type": "display_data"
    },
    {
     "data": {
      "text/html": [
       "'logical'"
      ],
      "text/latex": [
       "'logical'"
      ],
      "text/markdown": [
       "'logical'"
      ],
      "text/plain": [
       "[1] \"logical\""
      ]
     },
     "metadata": {},
     "output_type": "display_data"
    }
   ],
   "source": [
    "typeof(xy)\n",
    "typeof(w)\n",
    "typeof(z)"
   ]
  },
  {
   "cell_type": "code",
   "execution_count": 10,
   "metadata": {
    "collapsed": false
   },
   "outputs": [
    {
     "data": {
      "text/html": [
       "<ol class=list-inline>\n",
       "\t<li>1</li>\n",
       "\t<li>2</li>\n",
       "\t<li>3</li>\n",
       "</ol>\n"
      ],
      "text/latex": [
       "\\begin{enumerate*}\n",
       "\\item 1\n",
       "\\item 2\n",
       "\\item 3\n",
       "\\end{enumerate*}\n"
      ],
      "text/markdown": [
       "1. 1\n",
       "2. 2\n",
       "3. 3\n",
       "\n",
       "\n"
      ],
      "text/plain": [
       "[1] 1 2 3"
      ]
     },
     "metadata": {},
     "output_type": "display_data"
    },
    {
     "data": {
      "text/html": [
       "<ol class=list-inline>\n",
       "\t<li>1</li>\n",
       "\t<li>1</li>\n",
       "\t<li>1</li>\n",
       "</ol>\n"
      ],
      "text/latex": [
       "\\begin{enumerate*}\n",
       "\\item 1\n",
       "\\item 1\n",
       "\\item 1\n",
       "\\end{enumerate*}\n"
      ],
      "text/markdown": [
       "1. 1\n",
       "2. 1\n",
       "3. 1\n",
       "\n",
       "\n"
      ],
      "text/plain": [
       "[1] 1 1 1"
      ]
     },
     "metadata": {},
     "output_type": "display_data"
    }
   ],
   "source": [
    "x <- seq(1,3)\n",
    "x\n",
    "y <- rep(1,3)\n",
    "y"
   ]
  },
  {
   "cell_type": "code",
   "execution_count": 11,
   "metadata": {
    "collapsed": false
   },
   "outputs": [
    {
     "data": {
      "text/html": [
       "<ol class=list-inline>\n",
       "\t<li>1</li>\n",
       "\t<li>3</li>\n",
       "\t<li>5</li>\n",
       "</ol>\n"
      ],
      "text/latex": [
       "\\begin{enumerate*}\n",
       "\\item 1\n",
       "\\item 3\n",
       "\\item 5\n",
       "\\end{enumerate*}\n"
      ],
      "text/markdown": [
       "1. 1\n",
       "2. 3\n",
       "3. 5\n",
       "\n",
       "\n"
      ],
      "text/plain": [
       "[1] 1 3 5"
      ]
     },
     "metadata": {},
     "output_type": "display_data"
    }
   ],
   "source": [
    "w <- seq(1,5,2)\n",
    "w"
   ]
  },
  {
   "cell_type": "code",
   "execution_count": 12,
   "metadata": {
    "collapsed": false
   },
   "outputs": [
    {
     "data": {
      "text/html": [
       "<ol class=list-inline>\n",
       "\t<li>1</li>\n",
       "\t<li>2</li>\n",
       "\t<li>2</li>\n",
       "\t<li>2</li>\n",
       "\t<li>3</li>\n",
       "\t<li>3</li>\n",
       "\t<li>3</li>\n",
       "\t<li>3</li>\n",
       "\t<li>3</li>\n",
       "</ol>\n"
      ],
      "text/latex": [
       "\\begin{enumerate*}\n",
       "\\item 1\n",
       "\\item 2\n",
       "\\item 2\n",
       "\\item 2\n",
       "\\item 3\n",
       "\\item 3\n",
       "\\item 3\n",
       "\\item 3\n",
       "\\item 3\n",
       "\\end{enumerate*}\n"
      ],
      "text/markdown": [
       "1. 1\n",
       "2. 2\n",
       "3. 2\n",
       "4. 2\n",
       "5. 3\n",
       "6. 3\n",
       "7. 3\n",
       "8. 3\n",
       "9. 3\n",
       "\n",
       "\n"
      ],
      "text/plain": [
       "[1] 1 2 2 2 3 3 3 3 3"
      ]
     },
     "metadata": {},
     "output_type": "display_data"
    }
   ],
   "source": [
    "w <- rep(seq(1,3), seq(1,5,2))\n",
    "w"
   ]
  },
  {
   "cell_type": "markdown",
   "metadata": {},
   "source": [
    "### Arithmetics"
   ]
  },
  {
   "cell_type": "code",
   "execution_count": 13,
   "metadata": {
    "collapsed": false,
    "scrolled": true
   },
   "outputs": [
    {
     "data": {
      "text/html": [
       "<ol class=list-inline>\n",
       "\t<li>19.5918367346939</li>\n",
       "\t<li>22.2222222222222</li>\n",
       "\t<li>20.9366391184573</li>\n",
       "\t<li>24.9307479224377</li>\n",
       "\t<li>31.3779891663364</li>\n",
       "\t<li>19.7363010882377</li>\n",
       "\t<li>21.0076677987465</li>\n",
       "</ol>\n"
      ],
      "text/latex": [
       "\\begin{enumerate*}\n",
       "\\item 19.5918367346939\n",
       "\\item 22.2222222222222\n",
       "\\item 20.9366391184573\n",
       "\\item 24.9307479224377\n",
       "\\item 31.3779891663364\n",
       "\\item 19.7363010882377\n",
       "\\item 21.0076677987465\n",
       "\\end{enumerate*}\n"
      ],
      "text/markdown": [
       "1. 19.5918367346939\n",
       "2. 22.2222222222222\n",
       "3. 20.9366391184573\n",
       "4. 24.9307479224377\n",
       "5. 31.3779891663364\n",
       "6. 19.7363010882377\n",
       "7. 21.0076677987465\n",
       "\n",
       "\n"
      ],
      "text/plain": [
       "[1] 19.59184 22.22222 20.93664 24.93075 31.37799 19.73630 21.00767"
      ]
     },
     "metadata": {},
     "output_type": "display_data"
    }
   ],
   "source": [
    "weight <- c(60, 72, 57, 90, 95, 72,60)\n",
    "height <- c(1.75, 1.80, 1.65, 1.90, 1.74, 1.91,1.69)\n",
    "bmi <- weight/height^2\n",
    "bmi"
   ]
  },
  {
   "cell_type": "code",
   "execution_count": 14,
   "metadata": {
    "collapsed": false
   },
   "outputs": [
    {
     "data": {
      "text/html": [
       "<ol class=list-inline>\n",
       "\t<li>19.2530474414496</li>\n",
       "\t<li>21.532506449998</li>\n",
       "\t<li>21.1888968824128</li>\n",
       "\t<li>23.5126651697705</li>\n",
       "\t<li>30.9238698579715</li>\n",
       "\t<li>18.5648921508102</li>\n",
       "\t<li>21.0076677987465</li>\n",
       "</ol>\n"
      ],
      "text/latex": [
       "\\begin{enumerate*}\n",
       "\\item 19.2530474414496\n",
       "\\item 21.532506449998\n",
       "\\item 21.1888968824128\n",
       "\\item 23.5126651697705\n",
       "\\item 30.9238698579715\n",
       "\\item 18.5648921508102\n",
       "\\item 21.0076677987465\n",
       "\\end{enumerate*}\n"
      ],
      "text/markdown": [
       "1. 19.2530474414496\n",
       "2. 21.532506449998\n",
       "3. 21.1888968824128\n",
       "4. 23.5126651697705\n",
       "5. 30.9238698579715\n",
       "6. 18.5648921508102\n",
       "7. 21.0076677987465\n",
       "\n",
       "\n"
      ],
      "text/plain": [
       "[1] 19.25305 21.53251 21.18890 23.51267 30.92387 18.56489 21.00767"
      ]
     },
     "metadata": {},
     "output_type": "display_data"
    }
   ],
   "source": [
    "# using the formula: weight/(height^2.5/1.3)\n",
    "aux <- height^2.5\n",
    "aux <- aux/1.3\n",
    "\n",
    "bmi2 <- weight/aux\n",
    "bmi2"
   ]
  },
  {
   "cell_type": "markdown",
   "metadata": {},
   "source": [
    "### Functions for vectors\n",
    "For vector v -> addition: sum(v), vector length: length(v), sorting: sort(v), ordering: (v), element multiplication: prod(v), mean value: mean(v), standard deviation: sd(v)"
   ]
  },
  {
   "cell_type": "code",
   "execution_count": 15,
   "metadata": {
    "collapsed": false
   },
   "outputs": [
    {
     "data": {
      "text/html": [
       "<ol class=list-inline>\n",
       "\t<li>1</li>\n",
       "\t<li>2</li>\n",
       "\t<li>3</li>\n",
       "\t<li>4</li>\n",
       "\t<li>5</li>\n",
       "\t<li>6</li>\n",
       "\t<li>7</li>\n",
       "</ol>\n"
      ],
      "text/latex": [
       "\\begin{enumerate*}\n",
       "\\item 1\n",
       "\\item 2\n",
       "\\item 3\n",
       "\\item 4\n",
       "\\item 5\n",
       "\\item 6\n",
       "\\item 7\n",
       "\\end{enumerate*}\n"
      ],
      "text/markdown": [
       "1. 1\n",
       "2. 2\n",
       "3. 3\n",
       "4. 4\n",
       "5. 5\n",
       "6. 6\n",
       "7. 7\n",
       "\n",
       "\n"
      ],
      "text/plain": [
       "[1] 1 2 3 4 5 6 7"
      ]
     },
     "metadata": {},
     "output_type": "display_data"
    },
    {
     "data": {
      "text/html": [
       "28"
      ],
      "text/latex": [
       "28"
      ],
      "text/markdown": [
       "28"
      ],
      "text/plain": [
       "[1] 28"
      ]
     },
     "metadata": {},
     "output_type": "display_data"
    },
    {
     "data": {
      "text/html": [
       "7"
      ],
      "text/latex": [
       "7"
      ],
      "text/markdown": [
       "7"
      ],
      "text/plain": [
       "[1] 7"
      ]
     },
     "metadata": {},
     "output_type": "display_data"
    }
   ],
   "source": [
    "v <- seq(1,7)\n",
    "v\n",
    "sum(v)\n",
    "length(v)"
   ]
  },
  {
   "cell_type": "code",
   "execution_count": 16,
   "metadata": {
    "collapsed": false
   },
   "outputs": [
    {
     "data": {
      "text/html": [
       "<ol class=list-inline>\n",
       "\t<li>5</li>\n",
       "\t<li>4</li>\n",
       "\t<li>3</li>\n",
       "\t<li>2</li>\n",
       "\t<li>1</li>\n",
       "</ol>\n"
      ],
      "text/latex": [
       "\\begin{enumerate*}\n",
       "\\item 5\n",
       "\\item 4\n",
       "\\item 3\n",
       "\\item 2\n",
       "\\item 1\n",
       "\\end{enumerate*}\n"
      ],
      "text/markdown": [
       "1. 5\n",
       "2. 4\n",
       "3. 3\n",
       "4. 2\n",
       "5. 1\n",
       "\n",
       "\n"
      ],
      "text/plain": [
       "[1] 5 4 3 2 1"
      ]
     },
     "metadata": {},
     "output_type": "display_data"
    },
    {
     "data": {
      "text/html": [
       "<ol class=list-inline>\n",
       "\t<li>1</li>\n",
       "\t<li>2</li>\n",
       "\t<li>3</li>\n",
       "\t<li>4</li>\n",
       "\t<li>5</li>\n",
       "</ol>\n"
      ],
      "text/latex": [
       "\\begin{enumerate*}\n",
       "\\item 1\n",
       "\\item 2\n",
       "\\item 3\n",
       "\\item 4\n",
       "\\item 5\n",
       "\\end{enumerate*}\n"
      ],
      "text/markdown": [
       "1. 1\n",
       "2. 2\n",
       "3. 3\n",
       "4. 4\n",
       "5. 5\n",
       "\n",
       "\n"
      ],
      "text/plain": [
       "[1] 1 2 3 4 5"
      ]
     },
     "metadata": {},
     "output_type": "display_data"
    },
    {
     "data": {
      "text/html": [
       "<ol class=list-inline>\n",
       "\t<li>5</li>\n",
       "\t<li>4</li>\n",
       "\t<li>3</li>\n",
       "\t<li>2</li>\n",
       "\t<li>1</li>\n",
       "</ol>\n"
      ],
      "text/latex": [
       "\\begin{enumerate*}\n",
       "\\item 5\n",
       "\\item 4\n",
       "\\item 3\n",
       "\\item 2\n",
       "\\item 1\n",
       "\\end{enumerate*}\n"
      ],
      "text/markdown": [
       "1. 5\n",
       "2. 4\n",
       "3. 3\n",
       "4. 2\n",
       "5. 1\n",
       "\n",
       "\n"
      ],
      "text/plain": [
       "[1] 5 4 3 2 1"
      ]
     },
     "metadata": {},
     "output_type": "display_data"
    },
    {
     "data": {
      "text/html": [
       "<ol class=list-inline>\n",
       "\t<li>1</li>\n",
       "\t<li>2</li>\n",
       "\t<li>3</li>\n",
       "\t<li>4</li>\n",
       "\t<li>5</li>\n",
       "</ol>\n"
      ],
      "text/latex": [
       "\\begin{enumerate*}\n",
       "\\item 1\n",
       "\\item 2\n",
       "\\item 3\n",
       "\\item 4\n",
       "\\item 5\n",
       "\\end{enumerate*}\n"
      ],
      "text/markdown": [
       "1. 1\n",
       "2. 2\n",
       "3. 3\n",
       "4. 4\n",
       "5. 5\n",
       "\n",
       "\n"
      ],
      "text/plain": [
       "[1] 1 2 3 4 5"
      ]
     },
     "metadata": {},
     "output_type": "display_data"
    }
   ],
   "source": [
    "v <- seq(5,1)\n",
    "v\n",
    "sort(v)\n",
    "order(v)\n",
    "order(v, decreasing = TRUE) # question"
   ]
  },
  {
   "cell_type": "code",
   "execution_count": 17,
   "metadata": {
    "collapsed": false
   },
   "outputs": [
    {
     "data": {
      "text/html": [
       "<ol class=list-inline>\n",
       "\t<li>3</li>\n",
       "\t<li>5</li>\n",
       "\t<li>7</li>\n",
       "\t<li>2</li>\n",
       "\t<li>4</li>\n",
       "\t<li>9</li>\n",
       "\t<li>1</li>\n",
       "</ol>\n"
      ],
      "text/latex": [
       "\\begin{enumerate*}\n",
       "\\item 3\n",
       "\\item 5\n",
       "\\item 7\n",
       "\\item 2\n",
       "\\item 4\n",
       "\\item 9\n",
       "\\item 1\n",
       "\\end{enumerate*}\n"
      ],
      "text/markdown": [
       "1. 3\n",
       "2. 5\n",
       "3. 7\n",
       "4. 2\n",
       "5. 4\n",
       "6. 9\n",
       "7. 1\n",
       "\n",
       "\n"
      ],
      "text/plain": [
       "[1] 3 5 7 2 4 9 1"
      ]
     },
     "metadata": {},
     "output_type": "display_data"
    },
    {
     "data": {
      "text/html": [
       "<ol class=list-inline>\n",
       "\t<li>7</li>\n",
       "\t<li>4</li>\n",
       "\t<li>1</li>\n",
       "\t<li>5</li>\n",
       "\t<li>2</li>\n",
       "\t<li>3</li>\n",
       "\t<li>6</li>\n",
       "</ol>\n"
      ],
      "text/latex": [
       "\\begin{enumerate*}\n",
       "\\item 7\n",
       "\\item 4\n",
       "\\item 1\n",
       "\\item 5\n",
       "\\item 2\n",
       "\\item 3\n",
       "\\item 6\n",
       "\\end{enumerate*}\n"
      ],
      "text/markdown": [
       "1. 7\n",
       "2. 4\n",
       "3. 1\n",
       "4. 5\n",
       "5. 2\n",
       "6. 3\n",
       "7. 6\n",
       "\n",
       "\n"
      ],
      "text/plain": [
       "[1] 7 4 1 5 2 3 6"
      ]
     },
     "metadata": {},
     "output_type": "display_data"
    },
    {
     "data": {
      "text/html": [
       "<ol class=list-inline>\n",
       "\t<li>6</li>\n",
       "\t<li>3</li>\n",
       "\t<li>2</li>\n",
       "\t<li>5</li>\n",
       "\t<li>1</li>\n",
       "\t<li>4</li>\n",
       "\t<li>7</li>\n",
       "</ol>\n"
      ],
      "text/latex": [
       "\\begin{enumerate*}\n",
       "\\item 6\n",
       "\\item 3\n",
       "\\item 2\n",
       "\\item 5\n",
       "\\item 1\n",
       "\\item 4\n",
       "\\item 7\n",
       "\\end{enumerate*}\n"
      ],
      "text/markdown": [
       "1. 6\n",
       "2. 3\n",
       "3. 2\n",
       "4. 5\n",
       "5. 1\n",
       "6. 4\n",
       "7. 7\n",
       "\n",
       "\n"
      ],
      "text/plain": [
       "[1] 6 3 2 5 1 4 7"
      ]
     },
     "metadata": {},
     "output_type": "display_data"
    }
   ],
   "source": [
    "v <- c(3,5,7,2,4,9,1)\n",
    "v\n",
    "order(v)\n",
    "order(v, decreasing = TRUE)"
   ]
  },
  {
   "cell_type": "code",
   "execution_count": 18,
   "metadata": {
    "collapsed": false
   },
   "outputs": [
    {
     "data": {
      "text/html": [
       "<ol class=list-inline>\n",
       "\t<li>5</li>\n",
       "\t<li>4</li>\n",
       "\t<li>3</li>\n",
       "\t<li>2</li>\n",
       "\t<li>1</li>\n",
       "</ol>\n"
      ],
      "text/latex": [
       "\\begin{enumerate*}\n",
       "\\item 5\n",
       "\\item 4\n",
       "\\item 3\n",
       "\\item 2\n",
       "\\item 1\n",
       "\\end{enumerate*}\n"
      ],
      "text/markdown": [
       "1. 5\n",
       "2. 4\n",
       "3. 3\n",
       "4. 2\n",
       "5. 1\n",
       "\n",
       "\n"
      ],
      "text/plain": [
       "[1] 5 4 3 2 1"
      ]
     },
     "metadata": {},
     "output_type": "display_data"
    },
    {
     "data": {
      "text/html": [
       "120"
      ],
      "text/latex": [
       "120"
      ],
      "text/markdown": [
       "120"
      ],
      "text/plain": [
       "[1] 120"
      ]
     },
     "metadata": {},
     "output_type": "display_data"
    },
    {
     "data": {
      "text/html": [
       "3"
      ],
      "text/latex": [
       "3"
      ],
      "text/markdown": [
       "3"
      ],
      "text/plain": [
       "[1] 3"
      ]
     },
     "metadata": {},
     "output_type": "display_data"
    },
    {
     "data": {
      "text/html": [
       "1.58113883008419"
      ],
      "text/latex": [
       "1.58113883008419"
      ],
      "text/markdown": [
       "1.58113883008419"
      ],
      "text/plain": [
       "[1] 1.581139"
      ]
     },
     "metadata": {},
     "output_type": "display_data"
    }
   ],
   "source": [
    "v <- seq(5,1)\n",
    "v\n",
    "prod(v)\n",
    "mean(v)\n",
    "sd(v)"
   ]
  },
  {
   "cell_type": "markdown",
   "metadata": {},
   "source": [
    "# Matrices\n",
    "\n",
    "### Definition\n",
    "$matrix$ (2 dimensions) and $array$ (more than 2 dimensions).\n",
    "\n",
    "There are different ways to define a matrix:"
   ]
  },
  {
   "cell_type": "code",
   "execution_count": 19,
   "metadata": {
    "collapsed": false
   },
   "outputs": [
    {
     "data": {
      "text/html": [
       "<table>\n",
       "<tbody>\n",
       "\t<tr><td>1 </td><td>4 </td><td>7 </td><td>10</td></tr>\n",
       "\t<tr><td>2 </td><td>5 </td><td>8 </td><td>11</td></tr>\n",
       "\t<tr><td>3 </td><td>6 </td><td>9 </td><td>12</td></tr>\n",
       "</tbody>\n",
       "</table>\n"
      ],
      "text/latex": [
       "\\begin{tabular}{llll}\n",
       "\t 1  & 4  & 7  & 10\\\\\n",
       "\t 2  & 5  & 8  & 11\\\\\n",
       "\t 3  & 6  & 9  & 12\\\\\n",
       "\\end{tabular}\n"
      ],
      "text/markdown": [
       "\n",
       "| 1  | 4  | 7  | 10 | \n",
       "| 2  | 5  | 8  | 11 | \n",
       "| 3  | 6  | 9  | 12 | \n",
       "\n",
       "\n"
      ],
      "text/plain": [
       "     [,1] [,2] [,3] [,4]\n",
       "[1,] 1    4    7    10  \n",
       "[2,] 2    5    8    11  \n",
       "[3,] 3    6    9    12  "
      ]
     },
     "metadata": {},
     "output_type": "display_data"
    }
   ],
   "source": [
    "# using dim() to change a vector into a matrix\n",
    "x <- 1:12\n",
    "dim(x) <- c(3,4)\n",
    "x"
   ]
  },
  {
   "cell_type": "code",
   "execution_count": 20,
   "metadata": {
    "collapsed": false
   },
   "outputs": [
    {
     "data": {
      "text/html": [
       "<table>\n",
       "<tbody>\n",
       "\t<tr><td>1 </td><td>4 </td><td>7 </td><td>10</td></tr>\n",
       "\t<tr><td>2 </td><td>5 </td><td>8 </td><td>11</td></tr>\n",
       "\t<tr><td>3 </td><td>6 </td><td>9 </td><td>12</td></tr>\n",
       "</tbody>\n",
       "</table>\n"
      ],
      "text/latex": [
       "\\begin{tabular}{llll}\n",
       "\t 1  & 4  & 7  & 10\\\\\n",
       "\t 2  & 5  & 8  & 11\\\\\n",
       "\t 3  & 6  & 9  & 12\\\\\n",
       "\\end{tabular}\n"
      ],
      "text/markdown": [
       "\n",
       "| 1  | 4  | 7  | 10 | \n",
       "| 2  | 5  | 8  | 11 | \n",
       "| 3  | 6  | 9  | 12 | \n",
       "\n",
       "\n"
      ],
      "text/plain": [
       "     [,1] [,2] [,3] [,4]\n",
       "[1,] 1    4    7    10  \n",
       "[2,] 2    5    8    11  \n",
       "[3,] 3    6    9    12  "
      ]
     },
     "metadata": {},
     "output_type": "display_data"
    },
    {
     "data": {
      "text/html": [
       "<table>\n",
       "<tbody>\n",
       "\t<tr><td>1 </td><td> 2</td><td> 3</td><td> 4</td></tr>\n",
       "\t<tr><td>5 </td><td> 6</td><td> 7</td><td> 8</td></tr>\n",
       "\t<tr><td>9 </td><td>10</td><td>11</td><td>12</td></tr>\n",
       "</tbody>\n",
       "</table>\n"
      ],
      "text/latex": [
       "\\begin{tabular}{llll}\n",
       "\t 1  &  2 &  3 &  4\\\\\n",
       "\t 5  &  6 &  7 &  8\\\\\n",
       "\t 9  & 10 & 11 & 12\\\\\n",
       "\\end{tabular}\n"
      ],
      "text/markdown": [
       "\n",
       "| 1  |  2 |  3 |  4 | \n",
       "| 5  |  6 |  7 |  8 | \n",
       "| 9  | 10 | 11 | 12 | \n",
       "\n",
       "\n"
      ],
      "text/plain": [
       "     [,1] [,2] [,3] [,4]\n",
       "[1,] 1     2    3    4  \n",
       "[2,] 5     6    7    8  \n",
       "[3,] 9    10   11   12  "
      ]
     },
     "metadata": {},
     "output_type": "display_data"
    }
   ],
   "source": [
    "# using matrix()\n",
    "matrix(1:12, nr=3, byrow=F)\n",
    "matrix(1:12, nr=3, byrow=T)"
   ]
  },
  {
   "cell_type": "code",
   "execution_count": 21,
   "metadata": {
    "collapsed": false
   },
   "outputs": [
    {
     "data": {
      "text/html": [
       "<table>\n",
       "<thead><tr><th></th><th scope=col>1</th><th scope=col>2</th><th scope=col>3</th><th scope=col>4</th></tr></thead>\n",
       "<tbody>\n",
       "\t<tr><th scope=row>a</th><td>1 </td><td>4 </td><td>7 </td><td>10</td></tr>\n",
       "\t<tr><th scope=row>b</th><td>2 </td><td>5 </td><td>8 </td><td>11</td></tr>\n",
       "\t<tr><th scope=row>c</th><td>3 </td><td>6 </td><td>9 </td><td>12</td></tr>\n",
       "</tbody>\n",
       "</table>\n"
      ],
      "text/latex": [
       "\\begin{tabular}{r|llll}\n",
       "  & 1 & 2 & 3 & 4\\\\\n",
       "\\hline\n",
       "\ta & 1  & 4  & 7  & 10\\\\\n",
       "\tb & 2  & 5  & 8  & 11\\\\\n",
       "\tc & 3  & 6  & 9  & 12\\\\\n",
       "\\end{tabular}\n"
      ],
      "text/markdown": [
       "\n",
       "| <!--/--> | 1 | 2 | 3 | 4 | \n",
       "|---|---|---|\n",
       "| a | 1  | 4  | 7  | 10 | \n",
       "| b | 2  | 5  | 8  | 11 | \n",
       "| c | 3  | 6  | 9  | 12 | \n",
       "\n",
       "\n"
      ],
      "text/plain": [
       "  1 2 3 4 \n",
       "a 1 4 7 10\n",
       "b 2 5 8 11\n",
       "c 3 6 9 12"
      ]
     },
     "metadata": {},
     "output_type": "display_data"
    }
   ],
   "source": [
    "# using array()\n",
    "array(1:12, dim=c(3,4), dimnames=list(c(\"a\",\"b\",\"c\"),seq(1,4)))"
   ]
  },
  {
   "cell_type": "code",
   "execution_count": 22,
   "metadata": {
    "collapsed": false
   },
   "outputs": [
    {
     "data": {
      "text/html": [
       "<table>\n",
       "<thead><tr><th></th><th scope=col>a</th><th scope=col>b</th><th scope=col>c</th><th scope=col>d</th></tr></thead>\n",
       "<tbody>\n",
       "\t<tr><th scope=row>A</th><td>1 </td><td> 2</td><td> 3</td><td> 4</td></tr>\n",
       "\t<tr><th scope=row>B</th><td>5 </td><td> 6</td><td> 7</td><td> 8</td></tr>\n",
       "\t<tr><th scope=row>C</th><td>9 </td><td>10</td><td>11</td><td>12</td></tr>\n",
       "</tbody>\n",
       "</table>\n"
      ],
      "text/latex": [
       "\\begin{tabular}{r|llll}\n",
       "  & a & b & c & d\\\\\n",
       "\\hline\n",
       "\tA & 1  &  2 &  3 &  4\\\\\n",
       "\tB & 5  &  6 &  7 &  8\\\\\n",
       "\tC & 9  & 10 & 11 & 12\\\\\n",
       "\\end{tabular}\n"
      ],
      "text/markdown": [
       "\n",
       "| <!--/--> | a | b | c | d | \n",
       "|---|---|---|\n",
       "| A | 1  |  2 |  3 |  4 | \n",
       "| B | 5  |  6 |  7 |  8 | \n",
       "| C | 9  | 10 | 11 | 12 | \n",
       "\n",
       "\n"
      ],
      "text/plain": [
       "  a b  c  d \n",
       "A 1  2  3  4\n",
       "B 5  6  7  8\n",
       "C 9 10 11 12"
      ]
     },
     "metadata": {},
     "output_type": "display_data"
    }
   ],
   "source": [
    "# assigning names to ROWS and COLS\n",
    "x <- matrix(1:12, nr=3, byrow=T)\n",
    "rownames(x) <- LETTERS[1:3]\n",
    "colnames(x) <- letters[1:4]\n",
    "x"
   ]
  },
  {
   "cell_type": "code",
   "execution_count": 23,
   "metadata": {
    "collapsed": false
   },
   "outputs": [
    {
     "data": {
      "text/html": [
       "<table>\n",
       "<thead><tr><th scope=col>A</th><th scope=col>B</th><th scope=col>C</th></tr></thead>\n",
       "<tbody>\n",
       "\t<tr><td>1 </td><td>5 </td><td> 9</td></tr>\n",
       "\t<tr><td>2 </td><td>6 </td><td>10</td></tr>\n",
       "\t<tr><td>3 </td><td>7 </td><td>11</td></tr>\n",
       "\t<tr><td>4 </td><td>8 </td><td>12</td></tr>\n",
       "</tbody>\n",
       "</table>\n"
      ],
      "text/latex": [
       "\\begin{tabular}{lll}\n",
       " A & B & C\\\\\n",
       "\\hline\n",
       "\t 1  & 5  &  9\\\\\n",
       "\t 2  & 6  & 10\\\\\n",
       "\t 3  & 7  & 11\\\\\n",
       "\t 4  & 8  & 12\\\\\n",
       "\\end{tabular}\n"
      ],
      "text/markdown": [
       "\n",
       "A | B | C | \n",
       "|---|---|---|---|\n",
       "| 1  | 5  |  9 | \n",
       "| 2  | 6  | 10 | \n",
       "| 3  | 7  | 11 | \n",
       "| 4  | 8  | 12 | \n",
       "\n",
       "\n"
      ],
      "text/plain": [
       "     A B C \n",
       "[1,] 1 5  9\n",
       "[2,] 2 6 10\n",
       "[3,] 3 7 11\n",
       "[4,] 4 8 12"
      ]
     },
     "metadata": {},
     "output_type": "display_data"
    }
   ],
   "source": [
    "# cbind -> putting vectors as columns to create a matrix\n",
    "cbind(A=1:4, B=5:8, C=9:12)"
   ]
  },
  {
   "cell_type": "code",
   "execution_count": 24,
   "metadata": {
    "collapsed": false,
    "scrolled": true
   },
   "outputs": [
    {
     "data": {
      "text/html": [
       "<table>\n",
       "<tbody>\n",
       "\t<tr><th scope=row>A</th><td>1 </td><td> 2</td><td> 3</td><td> 4</td></tr>\n",
       "\t<tr><th scope=row>B</th><td>5 </td><td> 6</td><td> 7</td><td> 8</td></tr>\n",
       "\t<tr><th scope=row>C</th><td>9 </td><td>10</td><td>11</td><td>12</td></tr>\n",
       "</tbody>\n",
       "</table>\n"
      ],
      "text/latex": [
       "\\begin{tabular}{r|llll}\n",
       "\tA & 1  &  2 &  3 &  4\\\\\n",
       "\tB & 5  &  6 &  7 &  8\\\\\n",
       "\tC & 9  & 10 & 11 & 12\\\\\n",
       "\\end{tabular}\n"
      ],
      "text/markdown": [
       "\n",
       "| A | 1  |  2 |  3 |  4 | \n",
       "| B | 5  |  6 |  7 |  8 | \n",
       "| C | 9  | 10 | 11 | 12 | \n",
       "\n",
       "\n"
      ],
      "text/plain": [
       "  [,1] [,2] [,3] [,4]\n",
       "A 1     2    3    4  \n",
       "B 5     6    7    8  \n",
       "C 9    10   11   12  "
      ]
     },
     "metadata": {},
     "output_type": "display_data"
    }
   ],
   "source": [
    "# rbing -> putting vectors as rows to create a matrix\n",
    "rbind(A=1:4, B=5:8, C=9:12)"
   ]
  },
  {
   "cell_type": "markdown",
   "metadata": {
    "collapsed": true
   },
   "source": [
    "### Matrix functions\n",
    "*  matrix product, inversion and transpose"
   ]
  },
  {
   "cell_type": "code",
   "execution_count": 25,
   "metadata": {
    "collapsed": false,
    "scrolled": true
   },
   "outputs": [
    {
     "data": {
      "text/html": [
       "<table>\n",
       "<tbody>\n",
       "\t<tr><td>1</td><td>2</td></tr>\n",
       "\t<tr><td>3</td><td>4</td></tr>\n",
       "</tbody>\n",
       "</table>\n"
      ],
      "text/latex": [
       "\\begin{tabular}{ll}\n",
       "\t 1 & 2\\\\\n",
       "\t 3 & 4\\\\\n",
       "\\end{tabular}\n"
      ],
      "text/markdown": [
       "\n",
       "| 1 | 2 | \n",
       "| 3 | 4 | \n",
       "\n",
       "\n"
      ],
      "text/plain": [
       "     [,1] [,2]\n",
       "[1,] 1    2   \n",
       "[2,] 3    4   "
      ]
     },
     "metadata": {},
     "output_type": "display_data"
    },
    {
     "data": {
      "text/html": [
       "<table>\n",
       "<tbody>\n",
       "\t<tr><td> 7</td><td>10</td></tr>\n",
       "\t<tr><td>15</td><td>22</td></tr>\n",
       "</tbody>\n",
       "</table>\n"
      ],
      "text/latex": [
       "\\begin{tabular}{ll}\n",
       "\t  7 & 10\\\\\n",
       "\t 15 & 22\\\\\n",
       "\\end{tabular}\n"
      ],
      "text/markdown": [
       "\n",
       "|  7 | 10 | \n",
       "| 15 | 22 | \n",
       "\n",
       "\n"
      ],
      "text/plain": [
       "     [,1] [,2]\n",
       "[1,]  7   10  \n",
       "[2,] 15   22  "
      ]
     },
     "metadata": {},
     "output_type": "display_data"
    },
    {
     "data": {
      "text/html": [
       "<table>\n",
       "<tbody>\n",
       "\t<tr><td>-2.0</td><td> 1.0</td></tr>\n",
       "\t<tr><td> 1.5</td><td>-0.5</td></tr>\n",
       "</tbody>\n",
       "</table>\n"
      ],
      "text/latex": [
       "\\begin{tabular}{ll}\n",
       "\t -2.0 &  1.0\\\\\n",
       "\t  1.5 & -0.5\\\\\n",
       "\\end{tabular}\n"
      ],
      "text/markdown": [
       "\n",
       "| -2.0 |  1.0 | \n",
       "|  1.5 | -0.5 | \n",
       "\n",
       "\n"
      ],
      "text/plain": [
       "     [,1] [,2]\n",
       "[1,] -2.0  1.0\n",
       "[2,]  1.5 -0.5"
      ]
     },
     "metadata": {},
     "output_type": "display_data"
    },
    {
     "data": {
      "text/html": [
       "<table>\n",
       "<tbody>\n",
       "\t<tr><td>1</td><td>3</td></tr>\n",
       "\t<tr><td>2</td><td>4</td></tr>\n",
       "</tbody>\n",
       "</table>\n"
      ],
      "text/latex": [
       "\\begin{tabular}{ll}\n",
       "\t 1 & 3\\\\\n",
       "\t 2 & 4\\\\\n",
       "\\end{tabular}\n"
      ],
      "text/markdown": [
       "\n",
       "| 1 | 3 | \n",
       "| 2 | 4 | \n",
       "\n",
       "\n"
      ],
      "text/plain": [
       "     [,1] [,2]\n",
       "[1,] 1    3   \n",
       "[2,] 2    4   "
      ]
     },
     "metadata": {},
     "output_type": "display_data"
    }
   ],
   "source": [
    "# define a matrix\n",
    "a <- matrix(1:4, 2, 2, byrow = T)\n",
    "a\n",
    "\n",
    "# matrix product\n",
    "a%*%a\n",
    "\n",
    "# inverse matrix\n",
    "solve(a)\n",
    "\n",
    "# transpose of a matrix\n",
    "t(a)"
   ]
  },
  {
   "cell_type": "markdown",
   "metadata": {},
   "source": [
    "### Indexing\n",
    "Allows to select a particular element(s) in a vector"
   ]
  },
  {
   "cell_type": "code",
   "execution_count": 26,
   "metadata": {
    "collapsed": false
   },
   "outputs": [
    {
     "data": {
      "text/html": [
       "25"
      ],
      "text/latex": [
       "25"
      ],
      "text/markdown": [
       "25"
      ],
      "text/plain": [
       "[1] 25"
      ]
     },
     "metadata": {},
     "output_type": "display_data"
    },
    {
     "data": {
      "text/html": [
       "<ol class=list-inline>\n",
       "\t<li>5</li>\n",
       "\t<li>15</li>\n",
       "\t<li>25</li>\n",
       "</ol>\n"
      ],
      "text/latex": [
       "\\begin{enumerate*}\n",
       "\\item 5\n",
       "\\item 15\n",
       "\\item 25\n",
       "\\end{enumerate*}\n"
      ],
      "text/markdown": [
       "1. 5\n",
       "2. 15\n",
       "3. 25\n",
       "\n",
       "\n"
      ],
      "text/plain": [
       "[1]  5 15 25"
      ]
     },
     "metadata": {},
     "output_type": "display_data"
    },
    {
     "data": {
      "text/html": [
       "<ol class=list-inline>\n",
       "\t<li>5</li>\n",
       "\t<li>15</li>\n",
       "\t<li>25</li>\n",
       "\t<li>30</li>\n",
       "\t<li>35</li>\n",
       "\t<li>40</li>\n",
       "\t<li>45</li>\n",
       "\t<li>50</li>\n",
       "</ol>\n"
      ],
      "text/latex": [
       "\\begin{enumerate*}\n",
       "\\item 5\n",
       "\\item 15\n",
       "\\item 25\n",
       "\\item 30\n",
       "\\item 35\n",
       "\\item 40\n",
       "\\item 45\n",
       "\\item 50\n",
       "\\end{enumerate*}\n"
      ],
      "text/markdown": [
       "1. 5\n",
       "2. 15\n",
       "3. 25\n",
       "4. 30\n",
       "5. 35\n",
       "6. 40\n",
       "7. 45\n",
       "8. 50\n",
       "\n",
       "\n"
      ],
      "text/plain": [
       "[1]  5 15 25 30 35 40 45 50"
      ]
     },
     "metadata": {},
     "output_type": "display_data"
    },
    {
     "data": {
      "text/html": [
       "<ol class=list-inline>\n",
       "\t<li>25</li>\n",
       "\t<li>30</li>\n",
       "\t<li>35</li>\n",
       "\t<li>40</li>\n",
       "\t<li>45</li>\n",
       "\t<li>50</li>\n",
       "</ol>\n"
      ],
      "text/latex": [
       "\\begin{enumerate*}\n",
       "\\item 25\n",
       "\\item 30\n",
       "\\item 35\n",
       "\\item 40\n",
       "\\item 45\n",
       "\\item 50\n",
       "\\end{enumerate*}\n"
      ],
      "text/markdown": [
       "1. 25\n",
       "2. 30\n",
       "3. 35\n",
       "4. 40\n",
       "5. 45\n",
       "6. 50\n",
       "\n",
       "\n"
      ],
      "text/plain": [
       "[1] 25 30 35 40 45 50"
      ]
     },
     "metadata": {},
     "output_type": "display_data"
    },
    {
     "data": {
      "text/html": [
       "<ol class=list-inline>\n",
       "\t<li>20</li>\n",
       "\t<li>25</li>\n",
       "</ol>\n"
      ],
      "text/latex": [
       "\\begin{enumerate*}\n",
       "\\item 20\n",
       "\\item 25\n",
       "\\end{enumerate*}\n"
      ],
      "text/markdown": [
       "1. 20\n",
       "2. 25\n",
       "\n",
       "\n"
      ],
      "text/plain": [
       "[1] 20 25"
      ]
     },
     "metadata": {},
     "output_type": "display_data"
    }
   ],
   "source": [
    "ex1 = c(5, 10, 15, 20, 25, 30, 35, 40, 45, 50)\n",
    "\n",
    "# access to the fifth element\n",
    "ex1[5]\n",
    "\n",
    "# access to several elements at once\n",
    "ex1[c(1,3,5)]\n",
    "\n",
    "# remove elements from the vector\n",
    "ex1[-c(2,4)]\n",
    "\n",
    "# conditional selecion\n",
    "ex1[ex1 > 20]\n",
    "\n",
    "ex1[ex1 > 15 & ex1 < 30]"
   ]
  },
  {
   "cell_type": "code",
   "execution_count": 27,
   "metadata": {
    "collapsed": false
   },
   "outputs": [
    {
     "data": {
      "text/html": [
       "<ol class=list-inline>\n",
       "\t<li>1.74</li>\n",
       "\t<li>1.9</li>\n",
       "\t<li>1.8</li>\n",
       "\t<li>1.91</li>\n",
       "\t<li>1.75</li>\n",
       "\t<li>1.69</li>\n",
       "\t<li>1.65</li>\n",
       "</ol>\n"
      ],
      "text/latex": [
       "\\begin{enumerate*}\n",
       "\\item 1.74\n",
       "\\item 1.9\n",
       "\\item 1.8\n",
       "\\item 1.91\n",
       "\\item 1.75\n",
       "\\item 1.69\n",
       "\\item 1.65\n",
       "\\end{enumerate*}\n"
      ],
      "text/markdown": [
       "1. 1.74\n",
       "2. 1.9\n",
       "3. 1.8\n",
       "4. 1.91\n",
       "5. 1.75\n",
       "6. 1.69\n",
       "7. 1.65\n",
       "\n",
       "\n"
      ],
      "text/plain": [
       "[1] 1.74 1.90 1.80 1.91 1.75 1.69 1.65"
      ]
     },
     "metadata": {},
     "output_type": "display_data"
    }
   ],
   "source": [
    "# use SORT function (decreasing order of weight)\n",
    "height <- c(1.75, 1.80, 1.65, 1.90, 1.74, 1.91,1.69)\n",
    "weight <- c(60, 72, 57, 90, 95, 72,60)\n",
    "\n",
    "index<-sort(weight,decreasing=T,index.return=T)\n",
    "height[index$ix]\n"
   ]
  },
  {
   "cell_type": "markdown",
   "metadata": {},
   "source": [
    "# Factors\n",
    "\n",
    "*  *Factors* are the categorial variables.\n",
    "*  A factor is said to have a set of *levels*.\n",
    "\n",
    "Ex: a factor has four levels. It consists of two items: a vector of integers between 1 and 4 and a character vector of length 4 containing strings describing what the four levels are."
   ]
  },
  {
   "cell_type": "code",
   "execution_count": 28,
   "metadata": {
    "collapsed": false,
    "scrolled": true
   },
   "outputs": [
    {
     "data": {
      "text/html": [
       "<ol class=list-inline>\n",
       "\t<li>0</li>\n",
       "\t<li>3</li>\n",
       "\t<li>2</li>\n",
       "\t<li>2</li>\n",
       "\t<li>1</li>\n",
       "</ol>\n"
      ],
      "text/latex": [
       "\\begin{enumerate*}\n",
       "\\item 0\n",
       "\\item 3\n",
       "\\item 2\n",
       "\\item 2\n",
       "\\item 1\n",
       "\\end{enumerate*}\n"
      ],
      "text/markdown": [
       "1. 0\n",
       "2. 3\n",
       "3. 2\n",
       "4. 2\n",
       "5. 1\n",
       "\n",
       "\n"
      ],
      "text/plain": [
       "[1] 0 3 2 2 1\n",
       "Levels: 0 1 2 3"
      ]
     },
     "metadata": {},
     "output_type": "display_data"
    },
    {
     "data": {
      "text/html": [
       "<ol class=list-inline>\n",
       "\t<li>non</li>\n",
       "\t<li>severe</li>\n",
       "\t<li>medium</li>\n",
       "\t<li>medium</li>\n",
       "\t<li>mild</li>\n",
       "</ol>\n"
      ],
      "text/latex": [
       "\\begin{enumerate*}\n",
       "\\item non\n",
       "\\item severe\n",
       "\\item medium\n",
       "\\item medium\n",
       "\\item mild\n",
       "\\end{enumerate*}\n"
      ],
      "text/markdown": [
       "1. non\n",
       "2. severe\n",
       "3. medium\n",
       "4. medium\n",
       "5. mild\n",
       "\n",
       "\n"
      ],
      "text/plain": [
       "[1] non    severe medium medium mild  \n",
       "Levels: non mild medium severe"
      ]
     },
     "metadata": {},
     "output_type": "display_data"
    }
   ],
   "source": [
    "# define vector\n",
    "pain <- c(0,3,2,2,1)\n",
    "# define factor\n",
    "fpain <- factor(pain, levels=0:3)\n",
    "# print\n",
    "fpain\n",
    "# assing levels\n",
    "levels(fpain) <- c(\"non\", \"mild\", \"medium\", \"severe\")\n",
    "# print\n",
    "fpain"
   ]
  },
  {
   "cell_type": "code",
   "execution_count": 29,
   "metadata": {
    "collapsed": false
   },
   "outputs": [
    {
     "data": {
      "text/html": [
       "<ol class=list-inline>\n",
       "\t<li>1</li>\n",
       "\t<li>4</li>\n",
       "\t<li>3</li>\n",
       "\t<li>3</li>\n",
       "\t<li>2</li>\n",
       "</ol>\n"
      ],
      "text/latex": [
       "\\begin{enumerate*}\n",
       "\\item 1\n",
       "\\item 4\n",
       "\\item 3\n",
       "\\item 3\n",
       "\\item 2\n",
       "\\end{enumerate*}\n"
      ],
      "text/markdown": [
       "1. 1\n",
       "2. 4\n",
       "3. 3\n",
       "4. 3\n",
       "5. 2\n",
       "\n",
       "\n"
      ],
      "text/plain": [
       "[1] 1 4 3 3 2"
      ]
     },
     "metadata": {},
     "output_type": "display_data"
    },
    {
     "data": {
      "text/html": [
       "<ol class=list-inline>\n",
       "\t<li>'non'</li>\n",
       "\t<li>'mild'</li>\n",
       "\t<li>'medium'</li>\n",
       "\t<li>'severe'</li>\n",
       "</ol>\n"
      ],
      "text/latex": [
       "\\begin{enumerate*}\n",
       "\\item 'non'\n",
       "\\item 'mild'\n",
       "\\item 'medium'\n",
       "\\item 'severe'\n",
       "\\end{enumerate*}\n"
      ],
      "text/markdown": [
       "1. 'non'\n",
       "2. 'mild'\n",
       "3. 'medium'\n",
       "4. 'severe'\n",
       "\n",
       "\n"
      ],
      "text/plain": [
       "[1] \"non\"    \"mild\"   \"medium\" \"severe\""
      ]
     },
     "metadata": {},
     "output_type": "display_data"
    },
    {
     "data": {
      "text/html": [
       "<ol class=list-inline>\n",
       "\t<li>non</li>\n",
       "\t<li>severe</li>\n",
       "\t<li>medium</li>\n",
       "\t<li>medium</li>\n",
       "\t<li>mild</li>\n",
       "</ol>\n"
      ],
      "text/latex": [
       "\\begin{enumerate*}\n",
       "\\item non\n",
       "\\item severe\n",
       "\\item medium\n",
       "\\item medium\n",
       "\\item mild\n",
       "\\end{enumerate*}\n"
      ],
      "text/markdown": [
       "1. non\n",
       "2. severe\n",
       "3. medium\n",
       "4. medium\n",
       "5. mild\n",
       "\n",
       "\n"
      ],
      "text/plain": [
       "[1] non    severe medium medium mild  \n",
       "Levels: non mild medium severe"
      ]
     },
     "metadata": {},
     "output_type": "display_data"
    }
   ],
   "source": [
    "# casting as number\n",
    "as.numeric(fpain)\n",
    "# assing levels\n",
    "levels(fpain)\n",
    "# print\n",
    "fpain"
   ]
  },
  {
   "cell_type": "markdown",
   "metadata": {},
   "source": [
    "# Lists\n",
    "*  Useful to combine a collection of objects into a larger composite object."
   ]
  },
  {
   "cell_type": "code",
   "execution_count": 30,
   "metadata": {
    "collapsed": true
   },
   "outputs": [],
   "source": [
    "# Ex. data concern pre- and postmenstrual energy intake in a group of women.\n",
    "intake.pre <- c(5260, 5470, 5640, 6180, 6390,6515, 6805, 7515, 7515, 8230, 8770)\n",
    "intake.post <- c(3910, 4220, 3885, 5160, 5645,4680, 5265, 5975, 6790, 6900, 7335)"
   ]
  },
  {
   "cell_type": "code",
   "execution_count": 31,
   "metadata": {
    "collapsed": false
   },
   "outputs": [
    {
     "data": {
      "text/html": [
       "<dl>\n",
       "\t<dt>$before</dt>\n",
       "\t\t<dd><ol class=list-inline>\n",
       "\t<li>5260</li>\n",
       "\t<li>5470</li>\n",
       "\t<li>5640</li>\n",
       "\t<li>6180</li>\n",
       "\t<li>6390</li>\n",
       "\t<li>6515</li>\n",
       "\t<li>6805</li>\n",
       "\t<li>7515</li>\n",
       "\t<li>7515</li>\n",
       "\t<li>8230</li>\n",
       "\t<li>8770</li>\n",
       "</ol>\n",
       "</dd>\n",
       "\t<dt>$after</dt>\n",
       "\t\t<dd><ol class=list-inline>\n",
       "\t<li>3910</li>\n",
       "\t<li>4220</li>\n",
       "\t<li>3885</li>\n",
       "\t<li>5160</li>\n",
       "\t<li>5645</li>\n",
       "\t<li>4680</li>\n",
       "\t<li>5265</li>\n",
       "\t<li>5975</li>\n",
       "\t<li>6790</li>\n",
       "\t<li>6900</li>\n",
       "\t<li>7335</li>\n",
       "</ol>\n",
       "</dd>\n",
       "</dl>\n"
      ],
      "text/latex": [
       "\\begin{description}\n",
       "\\item[\\$before] \\begin{enumerate*}\n",
       "\\item 5260\n",
       "\\item 5470\n",
       "\\item 5640\n",
       "\\item 6180\n",
       "\\item 6390\n",
       "\\item 6515\n",
       "\\item 6805\n",
       "\\item 7515\n",
       "\\item 7515\n",
       "\\item 8230\n",
       "\\item 8770\n",
       "\\end{enumerate*}\n",
       "\n",
       "\\item[\\$after] \\begin{enumerate*}\n",
       "\\item 3910\n",
       "\\item 4220\n",
       "\\item 3885\n",
       "\\item 5160\n",
       "\\item 5645\n",
       "\\item 4680\n",
       "\\item 5265\n",
       "\\item 5975\n",
       "\\item 6790\n",
       "\\item 6900\n",
       "\\item 7335\n",
       "\\end{enumerate*}\n",
       "\n",
       "\\end{description}\n"
      ],
      "text/markdown": [
       "$before\n",
       ":   1. 5260\n",
       "2. 5470\n",
       "3. 5640\n",
       "4. 6180\n",
       "5. 6390\n",
       "6. 6515\n",
       "7. 6805\n",
       "8. 7515\n",
       "9. 7515\n",
       "10. 8230\n",
       "11. 8770\n",
       "\n",
       "\n",
       "\n",
       "$after\n",
       ":   1. 3910\n",
       "2. 4220\n",
       "3. 3885\n",
       "4. 5160\n",
       "5. 5645\n",
       "6. 4680\n",
       "7. 5265\n",
       "8. 5975\n",
       "9. 6790\n",
       "10. 6900\n",
       "11. 7335\n",
       "\n",
       "\n",
       "\n",
       "\n",
       "\n"
      ],
      "text/plain": [
       "$before\n",
       " [1] 5260 5470 5640 6180 6390 6515 6805 7515 7515 8230 8770\n",
       "\n",
       "$after\n",
       " [1] 3910 4220 3885 5160 5645 4680 5265 5975 6790 6900 7335\n"
      ]
     },
     "metadata": {},
     "output_type": "display_data"
    }
   ],
   "source": [
    "# create list\n",
    "mylist <- list(\"before\"=intake.pre, \"after\"=intake.post)\n",
    "mylist"
   ]
  },
  {
   "cell_type": "code",
   "execution_count": 32,
   "metadata": {
    "collapsed": false
   },
   "outputs": [
    {
     "data": {
      "text/html": [
       "<ol class=list-inline>\n",
       "\t<li>5260</li>\n",
       "\t<li>5470</li>\n",
       "\t<li>5640</li>\n",
       "\t<li>6180</li>\n",
       "\t<li>6390</li>\n",
       "\t<li>6515</li>\n",
       "\t<li>6805</li>\n",
       "\t<li>7515</li>\n",
       "\t<li>7515</li>\n",
       "\t<li>8230</li>\n",
       "\t<li>8770</li>\n",
       "</ol>\n"
      ],
      "text/latex": [
       "\\begin{enumerate*}\n",
       "\\item 5260\n",
       "\\item 5470\n",
       "\\item 5640\n",
       "\\item 6180\n",
       "\\item 6390\n",
       "\\item 6515\n",
       "\\item 6805\n",
       "\\item 7515\n",
       "\\item 7515\n",
       "\\item 8230\n",
       "\\item 8770\n",
       "\\end{enumerate*}\n"
      ],
      "text/markdown": [
       "1. 5260\n",
       "2. 5470\n",
       "3. 5640\n",
       "4. 6180\n",
       "5. 6390\n",
       "6. 6515\n",
       "7. 6805\n",
       "8. 7515\n",
       "9. 7515\n",
       "10. 8230\n",
       "11. 8770\n",
       "\n",
       "\n"
      ],
      "text/plain": [
       " [1] 5260 5470 5640 6180 6390 6515 6805 7515 7515 8230 8770"
      ]
     },
     "metadata": {},
     "output_type": "display_data"
    },
    {
     "data": {
      "text/html": [
       "<ol class=list-inline>\n",
       "\t<li>5260</li>\n",
       "\t<li>5470</li>\n",
       "\t<li>5640</li>\n",
       "\t<li>6180</li>\n",
       "\t<li>6390</li>\n",
       "\t<li>6515</li>\n",
       "\t<li>6805</li>\n",
       "\t<li>7515</li>\n",
       "\t<li>7515</li>\n",
       "\t<li>8230</li>\n",
       "\t<li>8770</li>\n",
       "</ol>\n"
      ],
      "text/latex": [
       "\\begin{enumerate*}\n",
       "\\item 5260\n",
       "\\item 5470\n",
       "\\item 5640\n",
       "\\item 6180\n",
       "\\item 6390\n",
       "\\item 6515\n",
       "\\item 6805\n",
       "\\item 7515\n",
       "\\item 7515\n",
       "\\item 8230\n",
       "\\item 8770\n",
       "\\end{enumerate*}\n"
      ],
      "text/markdown": [
       "1. 5260\n",
       "2. 5470\n",
       "3. 5640\n",
       "4. 6180\n",
       "5. 6390\n",
       "6. 6515\n",
       "7. 6805\n",
       "8. 7515\n",
       "9. 7515\n",
       "10. 8230\n",
       "11. 8770\n",
       "\n",
       "\n"
      ],
      "text/plain": [
       " [1] 5260 5470 5640 6180 6390 6515 6805 7515 7515 8230 8770"
      ]
     },
     "metadata": {},
     "output_type": "display_data"
    }
   ],
   "source": [
    "# select by argument's name\n",
    "mylist$before\n",
    "\n",
    "# select by index\n",
    "mylist[[1]]"
   ]
  },
  {
   "cell_type": "markdown",
   "metadata": {},
   "source": [
    "# Data frames\n",
    "It is a list of vectors and/or factors of the same length. Data in the same position come from the same experimental unit."
   ]
  },
  {
   "cell_type": "code",
   "execution_count": 33,
   "metadata": {
    "collapsed": false
   },
   "outputs": [
    {
     "data": {
      "text/html": [
       "<table>\n",
       "<thead><tr><th scope=col>intake.pre</th><th scope=col>intake.post</th></tr></thead>\n",
       "<tbody>\n",
       "\t<tr><td>5260</td><td>3910</td></tr>\n",
       "\t<tr><td>5470</td><td>4220</td></tr>\n",
       "\t<tr><td>5640</td><td>3885</td></tr>\n",
       "\t<tr><td>6180</td><td>5160</td></tr>\n",
       "\t<tr><td>6390</td><td>5645</td></tr>\n",
       "\t<tr><td>6515</td><td>4680</td></tr>\n",
       "\t<tr><td>6805</td><td>5265</td></tr>\n",
       "\t<tr><td>7515</td><td>5975</td></tr>\n",
       "\t<tr><td>7515</td><td>6790</td></tr>\n",
       "\t<tr><td>8230</td><td>6900</td></tr>\n",
       "\t<tr><td>8770</td><td>7335</td></tr>\n",
       "</tbody>\n",
       "</table>\n"
      ],
      "text/latex": [
       "\\begin{tabular}{r|ll}\n",
       " intake.pre & intake.post\\\\\n",
       "\\hline\n",
       "\t 5260 & 3910\\\\\n",
       "\t 5470 & 4220\\\\\n",
       "\t 5640 & 3885\\\\\n",
       "\t 6180 & 5160\\\\\n",
       "\t 6390 & 5645\\\\\n",
       "\t 6515 & 4680\\\\\n",
       "\t 6805 & 5265\\\\\n",
       "\t 7515 & 5975\\\\\n",
       "\t 7515 & 6790\\\\\n",
       "\t 8230 & 6900\\\\\n",
       "\t 8770 & 7335\\\\\n",
       "\\end{tabular}\n"
      ],
      "text/markdown": [
       "\n",
       "intake.pre | intake.post | \n",
       "|---|---|---|---|---|---|---|---|---|---|---|\n",
       "| 5260 | 3910 | \n",
       "| 5470 | 4220 | \n",
       "| 5640 | 3885 | \n",
       "| 6180 | 5160 | \n",
       "| 6390 | 5645 | \n",
       "| 6515 | 4680 | \n",
       "| 6805 | 5265 | \n",
       "| 7515 | 5975 | \n",
       "| 7515 | 6790 | \n",
       "| 8230 | 6900 | \n",
       "| 8770 | 7335 | \n",
       "\n",
       "\n"
      ],
      "text/plain": [
       "   intake.pre intake.post\n",
       "1  5260       3910       \n",
       "2  5470       4220       \n",
       "3  5640       3885       \n",
       "4  6180       5160       \n",
       "5  6390       5645       \n",
       "6  6515       4680       \n",
       "7  6805       5265       \n",
       "8  7515       5975       \n",
       "9  7515       6790       \n",
       "10 8230       6900       \n",
       "11 8770       7335       "
      ]
     },
     "metadata": {},
     "output_type": "display_data"
    }
   ],
   "source": [
    "# create a new frame\n",
    "d <- data.frame(intake.pre, intake.post)\n",
    "d"
   ]
  },
  {
   "cell_type": "code",
   "execution_count": 34,
   "metadata": {
    "collapsed": false
   },
   "outputs": [
    {
     "data": {
      "text/html": [
       "<ol class=list-inline>\n",
       "\t<li>5260</li>\n",
       "\t<li>5470</li>\n",
       "\t<li>5640</li>\n",
       "\t<li>6180</li>\n",
       "\t<li>6390</li>\n",
       "\t<li>6515</li>\n",
       "\t<li>6805</li>\n",
       "\t<li>7515</li>\n",
       "\t<li>7515</li>\n",
       "\t<li>8230</li>\n",
       "\t<li>8770</li>\n",
       "</ol>\n"
      ],
      "text/latex": [
       "\\begin{enumerate*}\n",
       "\\item 5260\n",
       "\\item 5470\n",
       "\\item 5640\n",
       "\\item 6180\n",
       "\\item 6390\n",
       "\\item 6515\n",
       "\\item 6805\n",
       "\\item 7515\n",
       "\\item 7515\n",
       "\\item 8230\n",
       "\\item 8770\n",
       "\\end{enumerate*}\n"
      ],
      "text/markdown": [
       "1. 5260\n",
       "2. 5470\n",
       "3. 5640\n",
       "4. 6180\n",
       "5. 6390\n",
       "6. 6515\n",
       "7. 6805\n",
       "8. 7515\n",
       "9. 7515\n",
       "10. 8230\n",
       "11. 8770\n",
       "\n",
       "\n"
      ],
      "text/plain": [
       " [1] 5260 5470 5640 6180 6390 6515 6805 7515 7515 8230 8770"
      ]
     },
     "metadata": {},
     "output_type": "display_data"
    }
   ],
   "source": [
    "# select\n",
    "d$intake.pre"
   ]
  },
  {
   "cell_type": "markdown",
   "metadata": {},
   "source": [
    "# Loops\n",
    "\n",
    "### Types:\n",
    "* $for(name in expr1)$ instructions where  expr1 is a vector expression (ex: 1:20)\n",
    "* $while(condition)$ instructions\n",
    "* $repeat$ instructions"
   ]
  },
  {
   "cell_type": "markdown",
   "metadata": {},
   "source": [
    "### Implicit loops\n",
    "Apply a function to each element of a set of values or vectors and collect the results in a single structure."
   ]
  },
  {
   "cell_type": "code",
   "execution_count": 35,
   "metadata": {
    "collapsed": false
   },
   "outputs": [],
   "source": [
    "# load \"thuesen\" data\n",
    "data(thuesen)"
   ]
  },
  {
   "cell_type": "code",
   "execution_count": 36,
   "metadata": {
    "collapsed": false
   },
   "outputs": [
    {
     "name": "stdout",
     "output_type": "stream",
     "text": [
      "'data.frame':\t24 obs. of  2 variables:\n",
      " $ blood.glucose : num  15.3 10.8 8.1 19.5 7.2 5.3 9.3 11.1 7.5 12.2 ...\n",
      " $ short.velocity: num  1.76 1.34 1.27 1.47 1.27 1.49 1.31 1.09 1.18 1.22 ...\n"
     ]
    },
    {
     "data": {
      "text/html": [
       "<dl>\n",
       "\t<dt>$blood.glucose</dt>\n",
       "\t\t<dd>10.3</dd>\n",
       "\t<dt>$short.velocity</dt>\n",
       "\t\t<dd>1.32565217391304</dd>\n",
       "</dl>\n"
      ],
      "text/latex": [
       "\\begin{description}\n",
       "\\item[\\$blood.glucose] 10.3\n",
       "\\item[\\$short.velocity] 1.32565217391304\n",
       "\\end{description}\n"
      ],
      "text/markdown": [
       "$blood.glucose\n",
       ":   10.3\n",
       "$short.velocity\n",
       ":   1.32565217391304\n",
       "\n",
       "\n"
      ],
      "text/plain": [
       "$blood.glucose\n",
       "[1] 10.3\n",
       "\n",
       "$short.velocity\n",
       "[1] 1.325652\n"
      ]
     },
     "metadata": {},
     "output_type": "display_data"
    },
    {
     "data": {
      "text/html": [
       "<dl class=dl-horizontal>\n",
       "\t<dt>blood.glucose</dt>\n",
       "\t\t<dd>10.3</dd>\n",
       "\t<dt>short.velocity</dt>\n",
       "\t\t<dd>1.32565217391304</dd>\n",
       "</dl>\n"
      ],
      "text/latex": [
       "\\begin{description*}\n",
       "\\item[blood.glucose] 10.3\n",
       "\\item[short.velocity] 1.32565217391304\n",
       "\\end{description*}\n"
      ],
      "text/markdown": [
       "blood.glucose\n",
       ":   10.3short.velocity\n",
       ":   1.32565217391304\n",
       "\n"
      ],
      "text/plain": [
       " blood.glucose short.velocity \n",
       "     10.300000       1.325652 "
      ]
     },
     "metadata": {},
     "output_type": "display_data"
    },
    {
     "data": {
      "text/html": [
       "<table>\n",
       "<tbody>\n",
       "\t<tr><td>-0.4177277</td><td>-0.1167021</td><td>-0.0137224</td></tr>\n",
       "\t<tr><td> 0.4387227</td><td> 1.9612641</td><td> 0.4337888</td></tr>\n",
       "\t<tr><td>-0.5064746</td><td> 0.2386222</td><td> 0.9199671</td></tr>\n",
       "\t<tr><td>-0.1546562</td><td>-1.0686855</td><td> 0.4093586</td></tr>\n",
       "</tbody>\n",
       "</table>\n"
      ],
      "text/latex": [
       "\\begin{tabular}{lll}\n",
       "\t -0.4177277 & -0.1167021 & -0.0137224\\\\\n",
       "\t  0.4387227 &  1.9612641 &  0.4337888\\\\\n",
       "\t -0.5064746 &  0.2386222 &  0.9199671\\\\\n",
       "\t -0.1546562 & -1.0686855 &  0.4093586\\\\\n",
       "\\end{tabular}\n"
      ],
      "text/markdown": [
       "\n",
       "| -0.4177277 | -0.1167021 | -0.0137224 | \n",
       "|  0.4387227 |  1.9612641 |  0.4337888 | \n",
       "| -0.5064746 |  0.2386222 |  0.9199671 | \n",
       "| -0.1546562 | -1.0686855 |  0.4093586 | \n",
       "\n",
       "\n"
      ],
      "text/plain": [
       "     [,1]       [,2]       [,3]      \n",
       "[1,] -0.4177277 -0.1167021 -0.0137224\n",
       "[2,]  0.4387227  1.9612641  0.4337888\n",
       "[3,] -0.5064746  0.2386222  0.9199671\n",
       "[4,] -0.1546562 -1.0686855  0.4093586"
      ]
     },
     "metadata": {},
     "output_type": "display_data"
    },
    {
     "data": {
      "text/html": [
       "<ol class=list-inline>\n",
       "\t<li>-0.182717391871512</li>\n",
       "\t<li>0.94459188089473</li>\n",
       "\t<li>0.217371591672181</li>\n",
       "\t<li>-0.271327707629173</li>\n",
       "</ol>\n"
      ],
      "text/latex": [
       "\\begin{enumerate*}\n",
       "\\item -0.182717391871512\n",
       "\\item 0.94459188089473\n",
       "\\item 0.217371591672181\n",
       "\\item -0.271327707629173\n",
       "\\end{enumerate*}\n"
      ],
      "text/markdown": [
       "1. -0.182717391871512\n",
       "2. 0.94459188089473\n",
       "3. 0.217371591672181\n",
       "4. -0.271327707629173\n",
       "\n",
       "\n"
      ],
      "text/plain": [
       "[1] -0.1827174  0.9445919  0.2173716 -0.2713277"
      ]
     },
     "metadata": {},
     "output_type": "display_data"
    },
    {
     "data": {
      "text/html": [
       "<ol class=list-inline>\n",
       "\t<li>-0.160033936910908</li>\n",
       "\t<li>0.253624681900421</li>\n",
       "\t<li>0.437348034810157</li>\n",
       "</ol>\n"
      ],
      "text/latex": [
       "\\begin{enumerate*}\n",
       "\\item -0.160033936910908\n",
       "\\item 0.253624681900421\n",
       "\\item 0.437348034810157\n",
       "\\end{enumerate*}\n"
      ],
      "text/markdown": [
       "1. -0.160033936910908\n",
       "2. 0.253624681900421\n",
       "3. 0.437348034810157\n",
       "\n",
       "\n"
      ],
      "text/plain": [
       "[1] -0.1600339  0.2536247  0.4373480"
      ]
     },
     "metadata": {},
     "output_type": "display_data"
    },
    {
     "data": {
      "text/html": [
       "0.176979593266557"
      ],
      "text/latex": [
       "0.176979593266557"
      ],
      "text/markdown": [
       "0.176979593266557"
      ],
      "text/plain": [
       "[1] 0.1769796"
      ]
     },
     "metadata": {},
     "output_type": "display_data"
    }
   ],
   "source": [
    "# what is in thuesen\n",
    "str(thuesen)\n",
    "\n",
    "# mean of thuesen, result as a list\n",
    "lapply(thuesen, mean, na.rm=T)\n",
    "\n",
    "# mean of thuesen, result as a vector\n",
    "sapply(thuesen, mean, na.rm=T)\n",
    "\n",
    "\n",
    "# initialize matrix\n",
    "m <- matrix(rnorm(12),4)\n",
    "m\n",
    "\n",
    "# compute the mean of each row and of each column using apply\n",
    "apply(m, 1, mean)\n",
    "apply(m, 2, mean)\n",
    "\n",
    "# mean of the whole matrix\n",
    "mean(m)"
   ]
  },
  {
   "cell_type": "markdown",
   "metadata": {},
   "source": [
    "# Conditions\n",
    "\n",
    "#### if(condition) instructions else if(condition2) instructions2 else instructions3"
   ]
  },
  {
   "cell_type": "code",
   "execution_count": 37,
   "metadata": {
    "collapsed": false
   },
   "outputs": [
    {
     "name": "stdout",
     "output_type": "stream",
     "text": [
      "[1] -0.4177277  0.4387227 -0.5064746 -0.1546562\n"
     ]
    }
   ],
   "source": [
    "if (m[1,1]>0)\n",
    "{\n",
    "    print(m[1,])\n",
    "} else {\n",
    "    if(m[1,1]<0)\n",
    "    { \n",
    "        print(m[,1])\n",
    "    }\n",
    "    else \n",
    "    {\n",
    "        print(\"element is zero\")\n",
    "    }\n",
    "   }"
   ]
  },
  {
   "cell_type": "markdown",
   "metadata": {},
   "source": [
    "# Functions\n",
    "\n",
    "#### name <- function(arg1, arg2, ...) expression\n",
    "\n",
    "Use  `return(variable)` to return one variable, multiple variables can be returned as a list.\n",
    "\n",
    "\n",
    "#### Compile functions\n",
    "* A set of functions can be saved in a *.R file\n",
    "* These functions can be loaded by using the  source(filename) command"
   ]
  },
  {
   "cell_type": "code",
   "execution_count": 38,
   "metadata": {
    "collapsed": false
   },
   "outputs": [
    {
     "data": {
      "text/html": [
       "<dl>\n",
       "\t<dt>$sum</dt>\n",
       "\t\t<dd>5</dd>\n",
       "\t<dt>$mean</dt>\n",
       "\t\t<dd>1.25</dd>\n",
       "</dl>\n"
      ],
      "text/latex": [
       "\\begin{description}\n",
       "\\item[\\$sum] 5\n",
       "\\item[\\$mean] 1.25\n",
       "\\end{description}\n"
      ],
      "text/markdown": [
       "$sum\n",
       ":   5\n",
       "$mean\n",
       ":   1.25\n",
       "\n",
       "\n"
      ],
      "text/plain": [
       "$sum\n",
       "[1] 5\n",
       "\n",
       "$mean\n",
       "[1] 1.25\n"
      ]
     },
     "metadata": {},
     "output_type": "display_data"
    }
   ],
   "source": [
    "# compute sum of a vector using a for loop\n",
    "computeSum <- function(x) {\n",
    "sum <- 0\n",
    "n <- 0\n",
    "for(i in 1:length(x)) {\n",
    "    if(!is.na(x[i])){ # value diff of NA\n",
    "        sum <- sum + x[i]\n",
    "        n <- n + 1\n",
    "    }}\n",
    "    # return(sum) will return the sum of the vector\n",
    "    return(list(\"sum\"=sum,\"mean\"=sum/n))\n",
    "}\n",
    "computeSum(c(1,2,-4,NA,6))"
   ]
  },
  {
   "cell_type": "markdown",
   "metadata": {},
   "source": [
    "# Plotting"
   ]
  },
  {
   "cell_type": "code",
   "execution_count": 39,
   "metadata": {
    "collapsed": false
   },
   "outputs": [
    {
     "data": {
      "image/png": "[encoded data removed]",
      "text/plain": [
       "Plot with title “height vs weight”"
      ]
     },
     "metadata": {},
     "output_type": "display_data"
    }
   ],
   "source": [
    "# two dimension plot\n",
    "plot(height, weight, main=\"height vs weight\", xlab=\"weight\",ylab=\"height\")"
   ]
  },
  {
   "cell_type": "code",
   "execution_count": 40,
   "metadata": {
    "collapsed": false
   },
   "outputs": [
    {
     "data": {
      "image/png": "[encoded data removed]",
      "text/plain": [
       "Plot with title “height vs weight”"
      ]
     },
     "metadata": {},
     "output_type": "display_data"
    }
   ],
   "source": [
    "# add pieces to the plot\n",
    "plot(height, weight, main=\"height vs weight\", xlab=\"weight\",ylab=\"height\")\n",
    "hh <- c(1.65, 1.70, 1.75, 1.80, 1.85, 1.90)\n",
    "lines(hh, 22.5 * hh^2,col=\"red\")"
   ]
  },
  {
   "cell_type": "code",
   "execution_count": 41,
   "metadata": {
    "collapsed": false
   },
   "outputs": [
    {
     "data": {
      "text/html": [
       "<strong>pdf:</strong> 2"
      ],
      "text/latex": [
       "\\textbf{pdf:} 2"
      ],
      "text/markdown": [
       "**pdf:** 2"
      ],
      "text/plain": [
       "pdf \n",
       "  2 "
      ]
     },
     "metadata": {},
     "output_type": "display_data"
    }
   ],
   "source": [
    "# save plot as .pdf\n",
    "pdf(file=\"myplot.pdf\",width=5,height=4)\n",
    "\n",
    "# plot\n",
    "plot(height, weight, main=\"height vs weight\", xlab=\"weight\",ylab=\"height\")\n",
    "hh <- c(1.65, 1.70, 1.75, 1.80, 1.85, 1.90)\n",
    "lines(hh, 22.5 * hh^2,col=\"red\")\n",
    "dev.off()"
   ]
  },
  {
   "cell_type": "markdown",
   "metadata": {},
   "source": [
    "# Probabilities\n",
    "\n",
    "### Sampling\n",
    "The function `sample` allows to draw random variables uniformly (parameter `prob` to make it non-uniformly) from a vector with or without replacement."
   ]
  },
  {
   "cell_type": "code",
   "execution_count": 42,
   "metadata": {
    "collapsed": false
   },
   "outputs": [
    {
     "data": {
      "text/html": [
       "<ol class=list-inline>\n",
       "\t<li>32</li>\n",
       "\t<li>30</li>\n",
       "\t<li>15</li>\n",
       "\t<li>13</li>\n",
       "\t<li>14</li>\n",
       "</ol>\n"
      ],
      "text/latex": [
       "\\begin{enumerate*}\n",
       "\\item 32\n",
       "\\item 30\n",
       "\\item 15\n",
       "\\item 13\n",
       "\\item 14\n",
       "\\end{enumerate*}\n"
      ],
      "text/markdown": [
       "1. 32\n",
       "2. 30\n",
       "3. 15\n",
       "4. 13\n",
       "5. 14\n",
       "\n",
       "\n"
      ],
      "text/plain": [
       "[1] 32 30 15 13 14"
      ]
     },
     "metadata": {},
     "output_type": "display_data"
    },
    {
     "data": {
      "text/html": [
       "<ol class=list-inline>\n",
       "\t<li>'H'</li>\n",
       "\t<li>'T'</li>\n",
       "\t<li>'H'</li>\n",
       "\t<li>'T'</li>\n",
       "\t<li>'H'</li>\n",
       "\t<li>'T'</li>\n",
       "\t<li>'T'</li>\n",
       "\t<li>'T'</li>\n",
       "\t<li>'T'</li>\n",
       "\t<li>'T'</li>\n",
       "</ol>\n"
      ],
      "text/latex": [
       "\\begin{enumerate*}\n",
       "\\item 'H'\n",
       "\\item 'T'\n",
       "\\item 'H'\n",
       "\\item 'T'\n",
       "\\item 'H'\n",
       "\\item 'T'\n",
       "\\item 'T'\n",
       "\\item 'T'\n",
       "\\item 'T'\n",
       "\\item 'T'\n",
       "\\end{enumerate*}\n"
      ],
      "text/markdown": [
       "1. 'H'\n",
       "2. 'T'\n",
       "3. 'H'\n",
       "4. 'T'\n",
       "5. 'H'\n",
       "6. 'T'\n",
       "7. 'T'\n",
       "8. 'T'\n",
       "9. 'T'\n",
       "10. 'T'\n",
       "\n",
       "\n"
      ],
      "text/plain": [
       " [1] \"H\" \"T\" \"H\" \"T\" \"H\" \"T\" \"T\" \"T\" \"T\" \"T\""
      ]
     },
     "metadata": {},
     "output_type": "display_data"
    },
    {
     "data": {
      "text/html": [
       "<ol class=list-inline>\n",
       "\t<li>'T'</li>\n",
       "\t<li>'T'</li>\n",
       "\t<li>'H'</li>\n",
       "\t<li>'H'</li>\n",
       "\t<li>'H'</li>\n",
       "\t<li>'H'</li>\n",
       "\t<li>'H'</li>\n",
       "\t<li>'H'</li>\n",
       "\t<li>'H'</li>\n",
       "\t<li>'H'</li>\n",
       "</ol>\n"
      ],
      "text/latex": [
       "\\begin{enumerate*}\n",
       "\\item 'T'\n",
       "\\item 'T'\n",
       "\\item 'H'\n",
       "\\item 'H'\n",
       "\\item 'H'\n",
       "\\item 'H'\n",
       "\\item 'H'\n",
       "\\item 'H'\n",
       "\\item 'H'\n",
       "\\item 'H'\n",
       "\\end{enumerate*}\n"
      ],
      "text/markdown": [
       "1. 'T'\n",
       "2. 'T'\n",
       "3. 'H'\n",
       "4. 'H'\n",
       "5. 'H'\n",
       "6. 'H'\n",
       "7. 'H'\n",
       "8. 'H'\n",
       "9. 'H'\n",
       "10. 'H'\n",
       "\n",
       "\n"
      ],
      "text/plain": [
       " [1] \"T\" \"T\" \"H\" \"H\" \"H\" \"H\" \"H\" \"H\" \"H\" \"H\""
      ]
     },
     "metadata": {},
     "output_type": "display_data"
    }
   ],
   "source": [
    "# re-initialize random seed\n",
    "set.seed(123456)\n",
    "\n",
    "# draw five random variables, uniformly distributed between 1 and 40\n",
    "sample(1:40,5) \n",
    "\n",
    "# simulate 10 coin tosses\n",
    "coins <- c(\"H\", \"T\")\n",
    "sample(coins, 10, replace=T)\n",
    "\n",
    "# sample 10 coin tosses with for a coin in which heads appears with a probability of  0.8\n",
    "sample(coins, 10, replace=T,prob=c(0.8,0.2))"
   ]
  },
  {
   "cell_type": "markdown",
   "metadata": {},
   "source": [
    "# Distributions\n",
    "\n",
    "For a probability distribution, four fundamental values can be computed: \n",
    "* the density\n",
    "* the distribution function\n",
    "* the quantiles\n",
    "* pseudo-random numbers\n",
    "\n",
    "Each of these can be computed for the included distributions. Ex: for a normal distribution: dnorm, pnorm, qnorm and rnorm"
   ]
  },
  {
   "cell_type": "code",
   "execution_count": 43,
   "metadata": {
    "collapsed": false
   },
   "outputs": [
    {
     "data": {
      "image/png": "[encoded data removed]",
      "text/plain": [
       "plot without title"
      ]
     },
     "metadata": {},
     "output_type": "display_data"
    }
   ],
   "source": [
    "# define a vector\n",
    "x <- seq(-4,4,0.1)\n",
    "# x\n",
    "# alternatively curve(dnorm(x), from=-4, to=4)\n",
    "plot(x,dnorm(x), type=\"l\") "
   ]
  },
  {
   "cell_type": "code",
   "execution_count": 44,
   "metadata": {
    "collapsed": false
   },
   "outputs": [
    {
     "data": {
      "image/png": "[encoded data removed]",
      "text/plain": [
       "plot without title"
      ]
     },
     "metadata": {},
     "output_type": "display_data"
    }
   ],
   "source": [
    "# plot the density for a binomial random variable B(50,0.33)\n",
    "\n",
    "# random variable\n",
    "x <- 0:50\n",
    "\n",
    "# dbinom(x, size, prob, log = FALSE)\n",
    "plot(x,dbinom(x, size=50, prob=0.33), type=\"h\", ylab=\" \")"
   ]
  },
  {
   "cell_type": "code",
   "execution_count": 45,
   "metadata": {
    "collapsed": false
   },
   "outputs": [
    {
     "data": {
      "text/html": [
       "0.984373880571531"
      ],
      "text/latex": [
       "0.984373880571531"
      ],
      "text/markdown": [
       "0.984373880571531"
      ],
      "text/plain": [
       "[1] 0.9843739"
      ]
     },
     "metadata": {},
     "output_type": "display_data"
    }
   ],
   "source": [
    "# compute the probability of a normally distributed variable with mean 132 and standard deviation 13 being smaller than 160\n",
    "\n",
    "pnorm(160, mean=132,sd=13)"
   ]
  },
  {
   "cell_type": "markdown",
   "metadata": {
    "collapsed": true
   },
   "source": [
    "# Quantiles\n",
    "* Definition: the quantile is the inverse of the distribution function.\n",
    "* The quantiles are used for computing the confidence intervals. \n",
    "* Use the function $quantile(x, ...)$ where x: numeric vector whose sample quantiles are wanted, or an object of a class for which a method has been defined."
   ]
  },
  {
   "cell_type": "markdown",
   "metadata": {},
   "source": [
    "Let $\\sigma=12$ and $n=5$ with a mean of $\\overline{x}=83$, compute the confidence interval using the normal distribution"
   ]
  },
  {
   "cell_type": "code",
   "execution_count": 46,
   "metadata": {
    "collapsed": false
   },
   "outputs": [
    {
     "data": {
      "text/html": [
       "72.481729513081"
      ],
      "text/latex": [
       "72.481729513081"
      ],
      "text/markdown": [
       "72.481729513081"
      ],
      "text/plain": [
       "[1] 72.48173"
      ]
     },
     "metadata": {},
     "output_type": "display_data"
    },
    {
     "data": {
      "text/html": [
       "93.518270486919"
      ],
      "text/latex": [
       "93.518270486919"
      ],
      "text/markdown": [
       "93.518270486919"
      ],
      "text/plain": [
       "[1] 93.51827"
      ]
     },
     "metadata": {},
     "output_type": "display_data"
    }
   ],
   "source": [
    "# \n",
    "xmean <- 83\n",
    "sigma <- 12\n",
    "n <- 5\n",
    "# \n",
    "sem <- sigma/sqrt(n)\n",
    "xmean + sem * qnorm(0.025)\n",
    "xmean + sem * qnorm(0.975)"
   ]
  },
  {
   "cell_type": "markdown",
   "metadata": {},
   "source": [
    "# Generation of pseudo-random numbers\n",
    "\n",
    "* The algorithms for generating pseudo-random numbers are initialised by a seed which can be defined in R using the function set.seed(init.value), where init.value is an integer. This allows the user to reproduce computations with the same pseudo-random numbers."
   ]
  },
  {
   "cell_type": "code",
   "execution_count": 47,
   "metadata": {
    "collapsed": false
   },
   "outputs": [
    {
     "data": {
      "text/html": [
       "<ol class=list-inline>\n",
       "\t<li>0.525852862643448</li>\n",
       "\t<li>1.16402807859442</li>\n",
       "\t<li>-0.970143365681101</li>\n",
       "\t<li>1.12227954217581</li>\n",
       "\t<li>-1.17959378858786</li>\n",
       "\t<li>-1.40321088959817</li>\n",
       "\t<li>1.13406977581414</li>\n",
       "\t<li>0.267361324468015</li>\n",
       "\t<li>0.642097734988478</li>\n",
       "\t<li>-0.540392343494407</li>\n",
       "</ol>\n"
      ],
      "text/latex": [
       "\\begin{enumerate*}\n",
       "\\item 0.525852862643448\n",
       "\\item 1.16402807859442\n",
       "\\item -0.970143365681101\n",
       "\\item 1.12227954217581\n",
       "\\item -1.17959378858786\n",
       "\\item -1.40321088959817\n",
       "\\item 1.13406977581414\n",
       "\\item 0.267361324468015\n",
       "\\item 0.642097734988478\n",
       "\\item -0.540392343494407\n",
       "\\end{enumerate*}\n"
      ],
      "text/markdown": [
       "1. 0.525852862643448\n",
       "2. 1.16402807859442\n",
       "3. -0.970143365681101\n",
       "4. 1.12227954217581\n",
       "5. -1.17959378858786\n",
       "6. -1.40321088959817\n",
       "7. 1.13406977581414\n",
       "8. 0.267361324468015\n",
       "9. 0.642097734988478\n",
       "10. -0.540392343494407\n",
       "\n",
       "\n"
      ],
      "text/plain": [
       " [1]  0.5258529  1.1640281 -0.9701434  1.1222795 -1.1795938 -1.4032109\n",
       " [7]  1.1340698  0.2673613  0.6420977 -0.5403923"
      ]
     },
     "metadata": {},
     "output_type": "display_data"
    },
    {
     "data": {
      "text/html": [
       "<ol class=list-inline>\n",
       "\t<li>6.17725583493332</li>\n",
       "\t<li>10.2314778358712</li>\n",
       "\t<li>5.23462608495497</li>\n",
       "\t<li>10.3544704140789</li>\n",
       "\t<li>12.4526279227567</li>\n",
       "\t<li>16.0199305763707</li>\n",
       "\t<li>11.9117633392922</li>\n",
       "\t<li>2.34511035916219</li>\n",
       "\t<li>-3.31248837460083</li>\n",
       "\t<li>2.45413807867701</li>\n",
       "</ol>\n"
      ],
      "text/latex": [
       "\\begin{enumerate*}\n",
       "\\item 6.17725583493332\n",
       "\\item 10.2314778358712\n",
       "\\item 5.23462608495497\n",
       "\\item 10.3544704140789\n",
       "\\item 12.4526279227567\n",
       "\\item 16.0199305763707\n",
       "\\item 11.9117633392922\n",
       "\\item 2.34511035916219\n",
       "\\item -3.31248837460083\n",
       "\\item 2.45413807867701\n",
       "\\end{enumerate*}\n"
      ],
      "text/markdown": [
       "1. 6.17725583493332\n",
       "2. 10.2314778358712\n",
       "3. 5.23462608495497\n",
       "4. 10.3544704140789\n",
       "5. 12.4526279227567\n",
       "6. 16.0199305763707\n",
       "7. 11.9117633392922\n",
       "8. 2.34511035916219\n",
       "9. -3.31248837460083\n",
       "10. 2.45413807867701\n",
       "\n",
       "\n"
      ],
      "text/plain": [
       " [1]  6.177256 10.231478  5.234626 10.354470 12.452628 16.019931 11.911763\n",
       " [8]  2.345110 -3.312488  2.454138"
      ]
     },
     "metadata": {},
     "output_type": "display_data"
    },
    {
     "data": {
      "text/html": [
       "<ol class=list-inline>\n",
       "\t<li>11</li>\n",
       "\t<li>4</li>\n",
       "\t<li>9</li>\n",
       "\t<li>7</li>\n",
       "\t<li>5</li>\n",
       "\t<li>8</li>\n",
       "\t<li>11</li>\n",
       "\t<li>13</li>\n",
       "\t<li>9</li>\n",
       "\t<li>12</li>\n",
       "</ol>\n"
      ],
      "text/latex": [
       "\\begin{enumerate*}\n",
       "\\item 11\n",
       "\\item 4\n",
       "\\item 9\n",
       "\\item 7\n",
       "\\item 5\n",
       "\\item 8\n",
       "\\item 11\n",
       "\\item 13\n",
       "\\item 9\n",
       "\\item 12\n",
       "\\end{enumerate*}\n"
      ],
      "text/markdown": [
       "1. 11\n",
       "2. 4\n",
       "3. 9\n",
       "4. 7\n",
       "5. 5\n",
       "6. 8\n",
       "7. 11\n",
       "8. 13\n",
       "9. 9\n",
       "10. 12\n",
       "\n",
       "\n"
      ],
      "text/plain": [
       " [1] 11  4  9  7  5  8 11 13  9 12"
      ]
     },
     "metadata": {},
     "output_type": "display_data"
    }
   ],
   "source": [
    "# number of samples = 10\n",
    "rnorm(10)\n",
    "\n",
    "# number of samples = 10, parameters for the chosen distribution (mean, sd)\n",
    "rnorm(10, mean=7, sd=5)\n",
    "rbinom(10, size=20, prob=.5)"
   ]
  },
  {
   "cell_type": "markdown",
   "metadata": {},
   "source": [
    "# Table of distributions in R\n",
    "\n",
    "* The following table provides an overview over the included distributions and their parameters.\n",
    "\n",
    "| Distribution | R name | additional arguments |\n",
    "| ------------- | ------------- | ------------- |\n",
    "|beta               | `beta`     |  `shape1, shape2, ncp`  |\n",
    "|binomial           | `binom`    |  `size, prob`  |\n",
    "|Cauchy             | `cauchy`   |  `location, scale`  |\n",
    "|chi-squared        | `chisq`    |  `df, ncp`  |\n",
    "|exponential        | `exp`      |  `rate`  |\n",
    "|F                  | `f`        |  `df1, df2, ncp`  |\n",
    "|gamma              | `gamma`    |  `shape, scale`  |\n",
    "|geometric          | `geom`     |  `prob`  |\n",
    "|hypergeometric     | `hyper`    |  `m, n, k`  |\n",
    "|log-normal         | `lnorm`    |  `meanlog, sdlog`  |\n",
    "|logistic           | `logis`    |  `location, scale`  |\n",
    "|negative binomial  | `nbinom`   |  `size, prob`  |\n",
    "|normal             | `norm`     |  `mean, sd`  |\n",
    "|Poisson            | `pois`     |  `lambda`  |\n",
    "|Student's t        | `t`        |  `df, ncp`  |\n",
    "|uniform            | `unif`     |  `min, max`  |\n",
    "|Weibull            | `weibull`  |  `shape, scale`  |\n",
    "|Wilcoxon           | `wilcox`   |  `m, n`  |"
   ]
  },
  {
   "cell_type": "markdown",
   "metadata": {},
   "source": [
    "# Descriptive statistics\n",
    "\n",
    "* The mean, the variance, the standard deviation and the median:"
   ]
  },
  {
   "cell_type": "code",
   "execution_count": 48,
   "metadata": {
    "collapsed": false
   },
   "outputs": [
    {
     "data": {
      "text/html": [
       "-0.18616800413714"
      ],
      "text/latex": [
       "-0.18616800413714"
      ],
      "text/markdown": [
       "-0.18616800413714"
      ],
      "text/plain": [
       "[1] -0.186168"
      ]
     },
     "metadata": {},
     "output_type": "display_data"
    },
    {
     "data": {
      "text/html": [
       "1.01443413607015"
      ],
      "text/latex": [
       "1.01443413607015"
      ],
      "text/markdown": [
       "1.01443413607015"
      ],
      "text/plain": [
       "[1] 1.014434"
      ]
     },
     "metadata": {},
     "output_type": "display_data"
    },
    {
     "data": {
      "text/html": [
       "1.00719121127527"
      ],
      "text/latex": [
       "1.00719121127527"
      ],
      "text/markdown": [
       "1.00719121127527"
      ],
      "text/plain": [
       "[1] 1.007191"
      ]
     },
     "metadata": {},
     "output_type": "display_data"
    },
    {
     "data": {
      "text/html": [
       "-0.152664878624419"
      ],
      "text/latex": [
       "-0.152664878624419"
      ],
      "text/markdown": [
       "-0.152664878624419"
      ],
      "text/plain": [
       "[1] -0.1526649"
      ]
     },
     "metadata": {},
     "output_type": "display_data"
    }
   ],
   "source": [
    "# vector x\n",
    "x <- rnorm(50)\n",
    "\n",
    "# calculate the mean\n",
    "mean(x)\n",
    "\n",
    "# calculate the variance\n",
    "var(x)\n",
    "\n",
    "# calculate the standard deviation\n",
    "sd(x)\n",
    "\n",
    "# calculate the median\n",
    "median(x)"
   ]
  },
  {
   "cell_type": "code",
   "execution_count": 49,
   "metadata": {
    "collapsed": false
   },
   "outputs": [
    {
     "data": {
      "text/html": [
       "<dl class=dl-horizontal>\n",
       "\t<dt>0%</dt>\n",
       "\t\t<dd>-3.00878868375269</dd>\n",
       "\t<dt>10%</dt>\n",
       "\t\t<dd>-1.55296712930289</dd>\n",
       "\t<dt>20%</dt>\n",
       "\t\t<dd>-0.901686397099583</dd>\n",
       "\t<dt>30%</dt>\n",
       "\t\t<dd>-0.78633772964994</dd>\n",
       "\t<dt>40%</dt>\n",
       "\t\t<dd>-0.401145541244156</dd>\n",
       "\t<dt>50%</dt>\n",
       "\t\t<dd>-0.152664878624419</dd>\n",
       "\t<dt>60%</dt>\n",
       "\t\t<dd>0.0751443279447609</dd>\n",
       "\t<dt>70%</dt>\n",
       "\t\t<dd>0.321404343281986</dd>\n",
       "\t<dt>80%</dt>\n",
       "\t\t<dd>0.699556513349</dd>\n",
       "\t<dt>90%</dt>\n",
       "\t\t<dd>0.895136088038469</dd>\n",
       "\t<dt>100%</dt>\n",
       "\t\t<dd>1.88284173430653</dd>\n",
       "</dl>\n"
      ],
      "text/latex": [
       "\\begin{description*}\n",
       "\\item[0\\textbackslash{}\\%] -3.00878868375269\n",
       "\\item[10\\textbackslash{}\\%] -1.55296712930289\n",
       "\\item[20\\textbackslash{}\\%] -0.901686397099583\n",
       "\\item[30\\textbackslash{}\\%] -0.78633772964994\n",
       "\\item[40\\textbackslash{}\\%] -0.401145541244156\n",
       "\\item[50\\textbackslash{}\\%] -0.152664878624419\n",
       "\\item[60\\textbackslash{}\\%] 0.0751443279447609\n",
       "\\item[70\\textbackslash{}\\%] 0.321404343281986\n",
       "\\item[80\\textbackslash{}\\%] 0.699556513349\n",
       "\\item[90\\textbackslash{}\\%] 0.895136088038469\n",
       "\\item[100\\textbackslash{}\\%] 1.88284173430653\n",
       "\\end{description*}\n"
      ],
      "text/markdown": [
       "0%\n",
       ":   -3.0087886837526910%\n",
       ":   -1.5529671293028920%\n",
       ":   -0.90168639709958330%\n",
       ":   -0.7863377296499440%\n",
       ":   -0.40114554124415650%\n",
       ":   -0.15266487862441960%\n",
       ":   0.075144327944760970%\n",
       ":   0.32140434328198680%\n",
       ":   0.69955651334990%\n",
       ":   0.895136088038469100%\n",
       ":   1.88284173430653\n",
       "\n"
      ],
      "text/plain": [
       "         0%         10%         20%         30%         40%         50% \n",
       "-3.00878868 -1.55296713 -0.90168640 -0.78633773 -0.40114554 -0.15266488 \n",
       "        60%         70%         80%         90%        100% \n",
       " 0.07514433  0.32140434  0.69955651  0.89513609  1.88284173 "
      ]
     },
     "metadata": {},
     "output_type": "display_data"
    }
   ],
   "source": [
    "# Generate the following quantiles using x and the quantile() function\n",
    "\n",
    "vseq <- seq(0, 1, 0.1)\n",
    "\n",
    "#generate quantiles (quantile(x, probs = seq(0, 1, 0.25), na.rm = FALSE,names = TRUE, type = 7, ...))\n",
    "quantile(x, vseq)"
   ]
  },
  {
   "cell_type": "markdown",
   "metadata": {},
   "source": [
    "# Plots of distributions"
   ]
  },
  {
   "cell_type": "code",
   "execution_count": 50,
   "metadata": {
    "collapsed": false
   },
   "outputs": [
    {
     "data": {
      "image/png": "[encoded data removed]",
      "text/plain": [
       "Plot with title “Histogram of x”"
      ]
     },
     "metadata": {},
     "output_type": "display_data"
    }
   ],
   "source": [
    "par(mfrow=c(1,2))\n",
    "# histogram function\n",
    "hist(x)\n",
    "n<-length(x)\n",
    "# plot\n",
    "plot(sort(x), (1:n)/n, type=\"s\", ylim=c(0,1))"
   ]
  },
  {
   "cell_type": "code",
   "execution_count": 51,
   "metadata": {
    "collapsed": false
   },
   "outputs": [
    {
     "data": {
      "image/png": "[encoded data removed]",
      "text/plain": [
       "plot without title"
      ]
     },
     "metadata": {},
     "output_type": "display_data"
    }
   ],
   "source": [
    "# \n",
    "data(IgM)\n",
    "par(mfrow=c(1,2))\n",
    "\n",
    "# the box in the middle of the graph indicates the quartiles and the median.\n",
    "boxplot(IgM)\n",
    "boxplot(log(IgM))"
   ]
  },
  {
   "cell_type": "markdown",
   "metadata": {
    "collapsed": true
   },
   "source": [
    "# Graphs for grouped data \n",
    "Comparing plots between groups."
   ]
  },
  {
   "cell_type": "markdown",
   "metadata": {},
   "source": [
    "### Histograms"
   ]
  },
  {
   "cell_type": "code",
   "execution_count": 52,
   "metadata": {
    "collapsed": false
   },
   "outputs": [
    {
     "data": {
      "image/png": "[encoded data removed]",
      "text/plain": [
       "Plot with title “Histogram of expend.obese”"
      ]
     },
     "metadata": {},
     "output_type": "display_data"
    }
   ],
   "source": [
    "# histogram\n",
    "\n",
    "data(energy)\n",
    "attach(energy)\n",
    "\n",
    "expend.lean <- expend[stature==\"lean\"]\n",
    "expend.obese <- expend[stature==\"obese\"]\n",
    "par(mfrow=c(1,2))\n",
    "\n",
    "hist(expend.lean, breaks=10, xlim=c(5,13), ylim=c(0,4),col=\"white\")\n",
    "hist(expend.obese, breaks=10, xlim=c(5,13), ylim=c(0,4), col=\"grey\")\n",
    "par(mfrow=c(1,1))"
   ]
  },
  {
   "cell_type": "markdown",
   "metadata": {},
   "source": [
    "### Parallel boxplots\n",
    "Possibility to insert boxplots of several different groups in the same window"
   ]
  },
  {
   "cell_type": "code",
   "execution_count": 53,
   "metadata": {
    "collapsed": false
   },
   "outputs": [
    {
     "data": {
      "image/png": "[encoded data removed]",
      "text/plain": [
       "plot without title"
      ]
     },
     "metadata": {},
     "output_type": "display_data"
    }
   ],
   "source": [
    "# parallel boxplots\n",
    "\n",
    "boxplot(expend.lean, expend.obese) "
   ]
  },
  {
   "cell_type": "markdown",
   "metadata": {},
   "source": [
    "### Stripcharts\n",
    "\n",
    "The stripcharts provide the possibility to display the raw data in a graph.\n"
   ]
  },
  {
   "cell_type": "code",
   "execution_count": 55,
   "metadata": {
    "collapsed": false
   },
   "outputs": [
    {
     "data": {
      "image/png": "[encoded data removed]",
      "text/plain": [
       "plot without title"
      ]
     },
     "metadata": {},
     "output_type": "display_data"
    }
   ],
   "source": [
    "# with its 4 variants\n",
    "\n",
    "opar <- par(mfrow=c(2,2), mex=0.8, mar=c(3,3,2,1)+.1)\n",
    "\n",
    "stripchart(expend~stature)\n",
    "stripchart(expend~stature, method=\"stack\")\n",
    "stripchart(expend~stature, method=\"jitter\")\n",
    "stripchart(expend~stature, method=\"jitter\", jitter=0.3)\n",
    "par(mfrow=c(1,1))"
   ]
  },
  {
   "cell_type": "markdown",
   "metadata": {},
   "source": [
    "### Generate tables\n",
    "\n",
    "A bi-dimensional table can be generated using `matrix`."
   ]
  },
  {
   "cell_type": "code",
   "execution_count": 56,
   "metadata": {
    "collapsed": false
   },
   "outputs": [
    {
     "data": {
      "text/html": [
       "<table>\n",
       "<tbody>\n",
       "\t<tr><td>652 </td><td>1537</td><td>598 </td><td>242 </td></tr>\n",
       "\t<tr><td> 36 </td><td>  46</td><td> 38 </td><td> 21 </td></tr>\n",
       "\t<tr><td>218 </td><td> 327</td><td>106 </td><td> 67 </td></tr>\n",
       "</tbody>\n",
       "</table>\n"
      ],
      "text/latex": [
       "\\begin{tabular}{llll}\n",
       "\t 652  & 1537 & 598  & 242 \\\\\n",
       "\t  36  &   46 &  38  &  21 \\\\\n",
       "\t 218  &  327 & 106  &  67 \\\\\n",
       "\\end{tabular}\n"
      ],
      "text/markdown": [
       "\n",
       "| 652  | 1537 | 598  | 242  | \n",
       "|  36  |   46 |  38  |  21  | \n",
       "| 218  |  327 | 106  |  67  | \n",
       "\n",
       "\n"
      ],
      "text/plain": [
       "     [,1] [,2] [,3] [,4]\n",
       "[1,] 652  1537 598  242 \n",
       "[2,]  36    46  38   21 \n",
       "[3,] 218   327 106   67 "
      ]
     },
     "metadata": {},
     "output_type": "display_data"
    }
   ],
   "source": [
    "# data that concerns the caffeine consumption while giving birth, with respect to women's civil status.\n",
    "caff.marital <- matrix(c(652, 1537, 598, 242, 36, 46, 38, 21, 218, 327, 106, 67), nrow=3, byrow=T)\n",
    "caff.marital"
   ]
  },
  {
   "cell_type": "code",
   "execution_count": 57,
   "metadata": {
    "collapsed": false
   },
   "outputs": [
    {
     "data": {
      "text/html": [
       "<table>\n",
       "<thead><tr><th></th><th scope=col>0</th><th scope=col>1-150</th><th scope=col>151-300</th><th scope=col>&gt;300</th></tr></thead>\n",
       "<tbody>\n",
       "\t<tr><th scope=row>Married</th><td>652 </td><td>1537</td><td>598 </td><td>242 </td></tr>\n",
       "\t<tr><th scope=row>Prev.married</th><td> 36 </td><td>  46</td><td> 38 </td><td> 21 </td></tr>\n",
       "\t<tr><th scope=row>Single</th><td>218 </td><td> 327</td><td>106 </td><td> 67 </td></tr>\n",
       "</tbody>\n",
       "</table>\n"
      ],
      "text/latex": [
       "\\begin{tabular}{r|llll}\n",
       "  & 0 & 1-150 & 151-300 & >300\\\\\n",
       "\\hline\n",
       "\tMarried & 652  & 1537 & 598  & 242 \\\\\n",
       "\tPrev.married &  36  &   46 &  38  &  21 \\\\\n",
       "\tSingle & 218  &  327 & 106  &  67 \\\\\n",
       "\\end{tabular}\n"
      ],
      "text/markdown": [
       "\n",
       "| <!--/--> | 0 | 1-150 | 151-300 | >300 | \n",
       "|---|---|---|\n",
       "| Married | 652  | 1537 | 598  | 242  | \n",
       "| Prev.married |  36  |   46 |  38  |  21  | \n",
       "| Single | 218  |  327 | 106  |  67  | \n",
       "\n",
       "\n"
      ],
      "text/plain": [
       "             0   1-150 151-300 >300\n",
       "Married      652 1537  598     242 \n",
       "Prev.married  36   46   38      21 \n",
       "Single       218  327  106      67 "
      ]
     },
     "metadata": {},
     "output_type": "display_data"
    }
   ],
   "source": [
    "# adding names to the rows and columns\n",
    "colnames(caff.marital) <- c(\"0\", \"1-150\", \"151-300\", \">300\")\n",
    "rownames(caff.marital) <- c(\"Married\",\"Prev.married\", \"Single\")\n",
    "caff.marital"
   ]
  },
  {
   "cell_type": "markdown",
   "metadata": {},
   "source": [
    "### Tables"
   ]
  },
  {
   "cell_type": "code",
   "execution_count": 60,
   "metadata": {
    "collapsed": false,
    "scrolled": false
   },
   "outputs": [
    {
     "name": "stderr",
     "output_type": "stream",
     "text": [
      "The following objects are masked from juul (pos = 3):\n",
      "\n",
      "    age, igf1, menarche, sex, tanner, testvol\n",
      "\n",
      "The following objects are masked from juul (pos = 4):\n",
      "\n",
      "    age, igf1, menarche, sex, tanner, testvol\n",
      "\n"
     ]
    }
   ],
   "source": [
    "# to create tables from a data set use the functions table, xtabs, or ftable.\n",
    "\n",
    "library(ISwR)\n",
    "data(juul)\n",
    "attach(juul)\n",
    "juul$sex <- factor(juul$sex, labels=c(\"M\", \"F\"))\n",
    "juul$menarche <- factor(juul$menarche, labels=c(\"No\", \"Yes\"))\n",
    "juul$tanner <- factor(juul$tanner, labels=c(\"I\", \"II\", \"III\", \"IV\", \"V\"))\n",
    "\n",
    "# juul"
   ]
  },
  {
   "cell_type": "code",
   "execution_count": 61,
   "metadata": {
    "collapsed": false
   },
   "outputs": [
    {
     "data": {
      "text/plain": [
       "      age         menarche     sex           igf1        tanner   \n",
       " Min.   : 0.170   No  :369   M   :621   Min.   : 25.0   I   :515  \n",
       " 1st Qu.: 9.053   Yes :335   F   :713   1st Qu.:202.2   II  :103  \n",
       " Median :12.560   NA's:635   NA's:  5   Median :313.5   III : 72  \n",
       " Mean   :15.095                         Mean   :340.2   IV  : 81  \n",
       " 3rd Qu.:16.855                         3rd Qu.:462.8   V   :328  \n",
       " Max.   :83.000                         Max.   :915.0   NA's:240  \n",
       " NA's   :5                              NA's   :321               \n",
       "    testvol      \n",
       " Min.   : 1.000  \n",
       " 1st Qu.: 1.000  \n",
       " Median : 3.000  \n",
       " Mean   : 7.896  \n",
       " 3rd Qu.:15.000  \n",
       " Max.   :30.000  \n",
       " NA's   :859     "
      ]
     },
     "metadata": {},
     "output_type": "display_data"
    }
   ],
   "source": [
    "summary(juul)"
   ]
  },
  {
   "cell_type": "code",
   "execution_count": 62,
   "metadata": {
    "collapsed": false
   },
   "outputs": [
    {
     "data": {
      "text/plain": [
       "sex\n",
       "  1   2 \n",
       "621 713 "
      ]
     },
     "metadata": {},
     "output_type": "display_data"
    },
    {
     "data": {
      "text/plain": [
       "   menarche\n",
       "sex   1   2\n",
       "  1   0   0\n",
       "  2 369 335"
      ]
     },
     "metadata": {},
     "output_type": "display_data"
    },
    {
     "data": {
      "text/plain": [
       "        tanner\n",
       "menarche   1   2   3   4   5\n",
       "       1 221  43  32  14   2\n",
       "       2   1   1   5  26 202"
      ]
     },
     "metadata": {},
     "output_type": "display_data"
    }
   ],
   "source": [
    "# respective tables\n",
    "\n",
    "table(sex)\n",
    "\n",
    "table(sex, menarche)\n",
    "\n",
    "table(menarche, tanner)"
   ]
  },
  {
   "cell_type": "markdown",
   "metadata": {},
   "source": [
    "### Exercises: Marginal tables and relative frequencies"
   ]
  },
  {
   "cell_type": "code",
   "execution_count": 67,
   "metadata": {
    "collapsed": false
   },
   "outputs": [
    {
     "data": {
      "text/plain": [
       "      sex\n",
       "tanner   1   2\n",
       "     1 291 224\n",
       "     2  55  48\n",
       "     3  34  38\n",
       "     4  41  40\n",
       "     5 124 204"
      ]
     },
     "metadata": {},
     "output_type": "display_data"
    }
   ],
   "source": [
    "# table definition\n",
    "\n",
    "tanner_sex=table(tanner, sex)\n",
    "tanner_sex"
   ]
  },
  {
   "cell_type": "code",
   "execution_count": 68,
   "metadata": {
    "collapsed": false
   },
   "outputs": [
    {
     "data": {
      "text/plain": [
       "tanner\n",
       "  1   2   3   4   5 \n",
       "515 103  72  81 328 "
      ]
     },
     "metadata": {},
     "output_type": "display_data"
    },
    {
     "data": {
      "text/plain": [
       "sex\n",
       "  1   2 \n",
       "545 554 "
      ]
     },
     "metadata": {},
     "output_type": "display_data"
    }
   ],
   "source": [
    "# compute the marginal tables\n",
    "margin.table(tanner_sex, 1)\n",
    "margin.table(tanner_sex, 2)"
   ]
  },
  {
   "cell_type": "code",
   "execution_count": 69,
   "metadata": {
    "collapsed": false
   },
   "outputs": [
    {
     "data": {
      "text/plain": [
       "      sex\n",
       "tanner         1         2\n",
       "     1 0.5650485 0.4349515\n",
       "     2 0.5339806 0.4660194\n",
       "     3 0.4722222 0.5277778\n",
       "     4 0.5061728 0.4938272\n",
       "     5 0.3780488 0.6219512"
      ]
     },
     "metadata": {},
     "output_type": "display_data"
    }
   ],
   "source": [
    "# compute the table of relative frequencies\n",
    "# This contains the relative frequencies that are the proportions of the row's or column's total.\n",
    "prop.table(tanner_sex, 1)"
   ]
  },
  {
   "cell_type": "code",
   "execution_count": 70,
   "metadata": {
    "collapsed": false
   },
   "outputs": [
    {
     "data": {
      "text/plain": [
       "      sex\n",
       "tanner          1          2\n",
       "     1 0.26478617 0.20382166\n",
       "     2 0.05004550 0.04367607\n",
       "     3 0.03093722 0.03457689\n",
       "     4 0.03730664 0.03639672\n",
       "     5 0.11282985 0.18562329"
      ]
     },
     "metadata": {},
     "output_type": "display_data"
    }
   ],
   "source": [
    "# compute the proportions with respect to the global total\n",
    "\n",
    "tanner_sex/sum(tanner_sex)"
   ]
  },
  {
   "cell_type": "markdown",
   "metadata": {},
   "source": [
    "## Graphical display of the tables\n",
    "\n",
    "\n",
    "### Bar plots\n",
    "\n",
    "*  The function `barplot` takes a vector or a matrix as argument.\n"
   ]
  },
  {
   "cell_type": "code",
   "execution_count": 71,
   "metadata": {
    "collapsed": false
   },
   "outputs": [
    {
     "data": {
      "image/png": "[encoded data removed]",
      "text/plain": [
       "plot without title"
      ]
     },
     "metadata": {},
     "output_type": "display_data"
    }
   ],
   "source": [
    "# bar plots\n",
    "total.caff <- margin.table(caff.marital,2)\n",
    "barplot(total.caff, col=\"white\")"
   ]
  },
  {
   "cell_type": "code",
   "execution_count": 72,
   "metadata": {
    "collapsed": false
   },
   "outputs": [
    {
     "data": {
      "image/png": "[encoded data removed]",
      "text/plain": [
       "plot without title"
      ]
     },
     "metadata": {},
     "output_type": "display_data"
    }
   ],
   "source": [
    "# barplot creates a stacked box plot when the argument is a matrix\n",
    "# the columns are partitioned with respect to the contributions of the table's different rows.\n",
    "par(mfrow=c(2,2))\n",
    "\n",
    "barplot(caff.marital, col=\"white\")\n",
    "barplot(t(caff.marital), col=\"white\")\n",
    "barplot(t(caff.marital), col=\"white\", beside=T)\n",
    "\n",
    "barplot(prop.table(t(caff.marital), 2), col=\"white\", beside=T)"
   ]
  },
  {
   "cell_type": "code",
   "execution_count": 73,
   "metadata": {
    "collapsed": false
   },
   "outputs": [
    {
     "data": {
      "image/png": "[encoded data removed]",
      "text/plain": [
       "plot without title"
      ]
     },
     "metadata": {},
     "output_type": "display_data"
    }
   ],
   "source": [
    "# write beautiful plots\n",
    "par(mfrow=c(1,1))\n",
    "barplot(prop.table(t(caff.marital), 2), beside=T,legend.text=colnames(caff.marital),col=c(\"white\",\"grey80\",\"grey50\", \"black\"),args.legend=c(cex=0.4))"
   ]
  },
  {
   "cell_type": "code",
   "execution_count": 74,
   "metadata": {
    "collapsed": false
   },
   "outputs": [
    {
     "data": {
      "image/png": "[encoded data removed]",
      "text/plain": [
       "plot without title"
      ]
     },
     "metadata": {},
     "output_type": "display_data"
    }
   ],
   "source": [
    "# create a dotchart with the same information as the previous bar plots (use the command dotchart()).\n",
    "\n",
    "par(mfrow=c(1,1))\n",
    "dotchart(t(caff.marital),cex=0.7)"
   ]
  },
  {
   "cell_type": "code",
   "execution_count": 75,
   "metadata": {
    "collapsed": false
   },
   "outputs": [
    {
     "data": {
      "image/png": "[encoded data removed]",
      "text/plain": [
       "Plot with title “Single”"
      ]
     },
     "metadata": {},
     "output_type": "display_data"
    }
   ],
   "source": [
    "# function pie()\n",
    "\n",
    "par(mfrow=c(2,2), mex=0.8, mar=c(1,1,2,1))\n",
    "slices <- c(\"white\", \"grey80\",\"grey50\", \"black\")\n",
    "pie(caff.marital[\"Married\",], main=\"Married\", col=slices)\n",
    "pie(caff.marital[\"Prev.married\",], main=\"Previously married\",col=slices)\n",
    "pie(caff.marital[\"Single\",], main=\"Single\", col=slices)"
   ]
  },
  {
   "cell_type": "code",
   "execution_count": 76,
   "metadata": {
    "collapsed": false
   },
   "outputs": [
    {
     "data": {
      "text/plain": [
       "R version 3.3.2 (2016-10-31)\n",
       "Platform: x86_64-apple-darwin13.4.0 (64-bit)\n",
       "Running under: macOS Sierra 10.12.3\n",
       "\n",
       "locale:\n",
       "[1] en_US.UTF-8/en_US.UTF-8/en_US.UTF-8/C/en_US.UTF-8/en_US.UTF-8\n",
       "\n",
       "attached base packages:\n",
       "[1] stats     graphics  grDevices utils     datasets  methods   base     \n",
       "\n",
       "other attached packages:\n",
       "[1] ISwR_2.0-7\n",
       "\n",
       "loaded via a namespace (and not attached):\n",
       " [1] R6_2.2.0            magrittr_1.5        IRdisplay_0.4.4    \n",
       " [4] pbdZMQ_0.2-5        tools_3.3.2         crayon_1.3.2       \n",
       " [7] uuid_0.1-2          stringi_1.1.2       IRkernel_0.8.5.9000\n",
       "[10] jsonlite_1.3        stringr_1.2.0       digest_0.6.12      \n",
       "[13] repr_0.10           evaluate_0.10      "
      ]
     },
     "metadata": {},
     "output_type": "display_data"
    }
   ],
   "source": [
    "# print version information about R, the OS and attached or loaded packages\n",
    "sessionInfo()"
   ]
  },
  {
   "cell_type": "code",
   "execution_count": null,
   "metadata": {
    "collapsed": true
   },
   "outputs": [],
   "source": []
  }
 ],
 "metadata": {
  "kernelspec": {
   "display_name": "R",
   "language": "R",
   "name": "ir"
  },
  "language_info": {
   "codemirror_mode": "r",
   "file_extension": ".r",
   "mimetype": "text/x-r-source",
   "name": "R",
   "pygments_lexer": "r",
   "version": "3.3.2"
  }
 },
 "nbformat": 4,
 "nbformat_minor": 2
}
